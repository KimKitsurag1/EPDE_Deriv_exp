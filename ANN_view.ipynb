{
 "cells": [
  {
   "cell_type": "markdown",
   "id": "0b29965b",
   "metadata": {},
   "source": [
    "Здесь представлено только отображение результатов полученных при работе скриптов \n",
    "ann_ode.py,\n",
    "ann_sde.py,\n",
    "ann_wave.py"
   ]
  },
  {
   "cell_type": "code",
   "execution_count": 2,
   "id": "445c02b7",
   "metadata": {},
   "outputs": [],
   "source": [
    "import numpy as np\n",
    "import matplotlib.pyplot as plt\n",
    "from sympy import *\n",
    "from sympy.abc import x"
   ]
  },
  {
   "cell_type": "code",
   "execution_count": 6,
   "id": "dccc6340",
   "metadata": {},
   "outputs": [],
   "source": [
    "f = lambdify(x, (0.072357460529242*sin(1.72753437013566*x) + 1.0*cos(1.72753437013566*x))*exp(-0.125*x))\n",
    "df = ((0.072357460529242*sin(1.72753437013566*x) + 1.0*cos(1.72753437013566*x))*exp(-0.125*x)).diff(x)\n",
    "df2 = df.diff(x)\n",
    "df = lambdify(x, df)\n",
    "df2 = lambdify(x, df2)\n",
    "f = np.vectorize(f)\n",
    "df = np.vectorize(df)\n",
    "df2 = np.vectorize(df2)"
   ]
  },
  {
   "cell_type": "code",
   "execution_count": 4,
   "id": "884cceab",
   "metadata": {},
   "outputs": [
    {
     "data": {
      "text/plain": [
       "array([array([1.11448074, 1.152862  , 1.00902381, 1.04229235, 1.32812041,\n",
       "              0.92581789, 1.28304504, 1.37674359, 0.98277902])           ,\n",
       "       array([1.1089788 , 1.22747201, 0.78157645, 0.98866161, 1.26785909,\n",
       "              1.04201152, 0.90523689, 1.1621441 , 1.227793  , 1.04032611]),\n",
       "       array([1.03158766, 1.288986  , 1.44624836, 1.4586338 , 0.89009398,\n",
       "              0.9693572 , 0.86311162])                                   ,\n",
       "       array([1.23845125, 1.39948394, 1.539077  , 1.47018439, 1.0621676 ,\n",
       "              1.53118581, 1.48075837, 1.13382257, 0.51038501])           ,\n",
       "       array([1.46924783, 1.39645652, 1.44001928, 1.27263894, 1.1941454 ,\n",
       "              0.95356048, 1.63392738, 1.45364791, 1.38985463])           ,\n",
       "       array([1.40163913, 1.44030256, 1.35381475, 1.30656603, 1.54558179,\n",
       "              1.59659008, 1.6851275 , 1.27419328])                       ,\n",
       "       array([1.74014539, 1.32779921, 1.50893265, 2.1530492 , 1.61641575,\n",
       "              1.38538358, 0.91707166, 1.96377519])                       ],\n",
       "      dtype=object)"
      ]
     },
     "execution_count": 4,
     "metadata": {},
     "output_type": "execute_result"
    }
   ],
   "source": [
    "ann_ode = np.load('ann_ode_data.npy', allow_pickle = True)\n",
    "ann_ode"
   ]
  },
  {
   "cell_type": "code",
   "execution_count": 7,
   "id": "7a1a83ae",
   "metadata": {},
   "outputs": [
    {
     "data": {
      "text/plain": [
       "9"
      ]
     },
     "execution_count": 7,
     "metadata": {},
     "output_type": "execute_result"
    }
   ],
   "source": [
    "len(ann_ode_f)"
   ]
  },
  {
   "cell_type": "code",
   "execution_count": 13,
   "id": "88e64124",
   "metadata": {},
   "outputs": [
    {
     "data": {
      "text/plain": [
       "array([array([1.3039971 , 1.16436698, 1.14489571, 1.34328452, 1.30323805,\n",
       "              1.15555798, 1.15711746, 1.09259649, 1.41406205, 1.2551574 ]),\n",
       "       array([1.00867826, 1.08629978, 1.20604998, 1.1791629 , 1.42938079,\n",
       "              1.42969586, 0.85715183, 1.22854524, 1.43321924, 1.05439173]),\n",
       "       array([1.39887084, 1.3497188 , 1.16658643, 1.32483665, 1.07193575,\n",
       "              1.2854013 , 1.30577049, 1.07944753, 1.26385507, 0.89072389]),\n",
       "       array([1.14350501, 1.08652013, 1.21118776, 1.00026155, 1.03344296,\n",
       "              1.09653998, 1.36986406, 1.14656166, 1.14654728])           ,\n",
       "       array([1.28381928, 1.38898318, 1.23551931, 1.25161819, 1.46805107,\n",
       "              1.03952361])                                               ,\n",
       "       array([1.56067463, 1.10270315, 1.36413153, 1.4135061 , 1.34403098,\n",
       "              1.01967028])                                               ,\n",
       "       array([1.5212761 , 1.74890553, 1.19176913, 1.38280547, 1.84693337,\n",
       "              1.30830463, 1.32810073, 1.64639863])                       ,\n",
       "       array([1.20357141, 2.42340157, 1.98807936, 1.79670436, 2.17753722,\n",
       "              2.10602554, 2.40781904, 1.38896049])                       ,\n",
       "       array([4.72990658, 5.06666139, 2.17781794, 5.01902574, 5.93275814,\n",
       "              5.0513911 , 4.63254036, 4.86278798, 5.15405206])           ],\n",
       "      dtype=object)"
      ]
     },
     "execution_count": 13,
     "metadata": {},
     "output_type": "execute_result"
    }
   ],
   "source": [
    "ann_ode_f = np.load('ann_ode_data_full.npy', allow_pickle = True)\n",
    "ann_ode_f"
   ]
  },
  {
   "cell_type": "code",
   "execution_count": 23,
   "id": "a48a0623",
   "metadata": {},
   "outputs": [
    {
     "data": {
      "text/plain": [
       "Text(0.5, 0, 'Номер запуска')"
      ]
     },
     "execution_count": 23,
     "metadata": {},
     "output_type": "execute_result"
    },
    {
     "data": {
      "image/png": "[encoded data removed]",
      "text/plain": [
       "<Figure size 432x288 with 1 Axes>"
      ]
     },
     "metadata": {
      "needs_background": "light"
     },
     "output_type": "display_data"
    }
   ],
   "source": [
    "plt.boxplot(ann_ode_f[::-1])\n",
    "plt.ylabel(\"Значения функции приспособленности\")\n",
    "plt.xlabel('Номер запуска')"
   ]
  },
  {
   "cell_type": "code",
   "execution_count": 3,
   "id": "efbb1539",
   "metadata": {},
   "outputs": [
    {
     "data": {
      "text/plain": [
       "array([[[[-0.08873402, -0.09726087, -0.11471352, ...,  0.51207954,\n",
       "           0.51288003,  0.51324105],\n",
       "         [-0.00950934, -0.02527389, -0.05676429, ...,  0.55581939,\n",
       "           0.55850947,  0.55979449],\n",
       "         [ 0.02873644,  0.00563892, -0.03900795, ...,  0.50872529,\n",
       "           0.50938326,  0.50966311],\n",
       "         ...,\n",
       "         [-0.18275563, -0.19098476, -0.20750256, ..., -0.29311344,\n",
       "          -0.2925016 , -0.29220834],\n",
       "         [-0.21931629, -0.22835523, -0.24650456, ..., -0.42797402,\n",
       "          -0.42782217, -0.42769417],\n",
       "         [-0.18865059, -0.19627236, -0.21168858, ..., -0.19078827,\n",
       "          -0.18990402, -0.18946934]],\n",
       "\n",
       "        [[-0.08873402, -0.09726087, -0.11471352, ...,  0.51207954,\n",
       "           0.51288003,  0.51324105],\n",
       "         [-0.00950934, -0.02527389, -0.05676429, ...,  0.55581939,\n",
       "           0.55850947,  0.55979449],\n",
       "         [ 0.02873644,  0.00563892, -0.03900795, ...,  0.50872529,\n",
       "           0.50938326,  0.50966311],\n",
       "         ...,\n",
       "         [-0.18275563, -0.19098476, -0.20750256, ..., -0.29311344,\n",
       "          -0.2925016 , -0.29220834],\n",
       "         [-0.21931629, -0.22835523, -0.24650456, ..., -0.42797402,\n",
       "          -0.42782217, -0.42769417],\n",
       "         [-0.18865059, -0.19627236, -0.21168858, ..., -0.19078827,\n",
       "          -0.18990402, -0.18946934]],\n",
       "\n",
       "        [[-0.08873402, -0.09726087, -0.11471352, ...,  0.51207954,\n",
       "           0.51288003,  0.51324105],\n",
       "         [-0.00950934, -0.02527389, -0.05676429, ...,  0.55581939,\n",
       "           0.55850947,  0.55979449],\n",
       "         [ 0.02873644,  0.00563892, -0.03900795, ...,  0.50872529,\n",
       "           0.50938326,  0.50966311],\n",
       "         ...,\n",
       "         [-0.18275563, -0.19098476, -0.20750256, ..., -0.29311344,\n",
       "          -0.2925016 , -0.29220834],\n",
       "         [-0.21931629, -0.22835523, -0.24650456, ..., -0.42797402,\n",
       "          -0.42782217, -0.42769417],\n",
       "         [-0.18865059, -0.19627236, -0.21168858, ..., -0.19078827,\n",
       "          -0.18990402, -0.18946934]],\n",
       "\n",
       "        ...,\n",
       "\n",
       "        [[-0.08873402, -0.09726087, -0.11471352, ...,  0.51207954,\n",
       "           0.51288003,  0.51324105],\n",
       "         [-0.00950934, -0.02527389, -0.05676429, ...,  0.55581939,\n",
       "           0.55850947,  0.55979449],\n",
       "         [ 0.02873644,  0.00563892, -0.03900795, ...,  0.50872529,\n",
       "           0.50938326,  0.50966311],\n",
       "         ...,\n",
       "         [-0.18275563, -0.19098476, -0.20750256, ..., -0.29311344,\n",
       "          -0.2925016 , -0.29220834],\n",
       "         [-0.21931629, -0.22835523, -0.24650456, ..., -0.42797402,\n",
       "          -0.42782217, -0.42769417],\n",
       "         [-0.18865059, -0.19627236, -0.21168858, ..., -0.19078827,\n",
       "          -0.18990402, -0.18946934]],\n",
       "\n",
       "        [[-0.08873402, -0.09726087, -0.11471352, ...,  0.51207954,\n",
       "           0.51288003,  0.51324105],\n",
       "         [-0.00950934, -0.02527389, -0.05676429, ...,  0.55581939,\n",
       "           0.55850947,  0.55979449],\n",
       "         [ 0.02873644,  0.00563892, -0.03900795, ...,  0.50872529,\n",
       "           0.50938326,  0.50966311],\n",
       "         ...,\n",
       "         [-0.18275563, -0.19098476, -0.20750256, ..., -0.29311344,\n",
       "          -0.2925016 , -0.29220834],\n",
       "         [-0.21931629, -0.22835523, -0.24650456, ..., -0.42797402,\n",
       "          -0.42782217, -0.42769417],\n",
       "         [-0.18865059, -0.19627236, -0.21168858, ..., -0.19078827,\n",
       "          -0.18990402, -0.18946934]],\n",
       "\n",
       "        [[-0.08873402, -0.09726087, -0.11471352, ...,  0.51207954,\n",
       "           0.51288003,  0.51324105],\n",
       "         [-0.00950934, -0.02527389, -0.05676429, ...,  0.55581939,\n",
       "           0.55850947,  0.55979449],\n",
       "         [ 0.02873644,  0.00563892, -0.03900795, ...,  0.50872529,\n",
       "           0.50938326,  0.50966311],\n",
       "         ...,\n",
       "         [-0.18275563, -0.19098476, -0.20750256, ..., -0.29311344,\n",
       "          -0.2925016 , -0.29220834],\n",
       "         [-0.21931629, -0.22835523, -0.24650456, ..., -0.42797402,\n",
       "          -0.42782217, -0.42769417],\n",
       "         [-0.18865059, -0.19627236, -0.21168858, ..., -0.19078827,\n",
       "          -0.18990402, -0.18946934]]],\n",
       "\n",
       "\n",
       "       [[[-0.85183275, -1.29767621, -1.78515995, ...,  0.08660528,\n",
       "           0.05801771,  0.03606643],\n",
       "         [-1.57487845, -2.36038446, -3.13652134, ...,  0.2736541 ,\n",
       "           0.19855592,  0.12837315],\n",
       "         [-2.30744243, -3.38383222, -4.31225252, ...,  0.07128137,\n",
       "           0.04684408,  0.0279564 ],\n",
       "         ...,\n",
       "         [-0.82208925, -1.2361089 , -1.66737878, ...,  0.06008095,\n",
       "           0.04520957,  0.02929616],\n",
       "         [-0.9029901 , -1.35805416, -1.82352817, ...,  0.01264141,\n",
       "           0.0139782 ,  0.0127873 ],\n",
       "         [-0.76141435, -1.1507473 , -1.56298137, ...,  0.0871464 ,\n",
       "           0.06588063,  0.04342471]],\n",
       "\n",
       "        [[-0.85183275, -1.29767621, -1.78515995, ...,  0.08660528,\n",
       "           0.05801771,  0.03606643],\n",
       "         [-1.57487845, -2.36038446, -3.13652134, ...,  0.2736541 ,\n",
       "           0.19855592,  0.12837315],\n",
       "         [-2.30744243, -3.38383222, -4.31225252, ...,  0.07128137,\n",
       "           0.04684408,  0.0279564 ],\n",
       "         ...,\n",
       "         [-0.82208925, -1.2361089 , -1.66737878, ...,  0.06008095,\n",
       "           0.04520957,  0.02929616],\n",
       "         [-0.9029901 , -1.35805416, -1.82352817, ...,  0.01264141,\n",
       "           0.0139782 ,  0.0127873 ],\n",
       "         [-0.76141435, -1.1507473 , -1.56298137, ...,  0.0871464 ,\n",
       "           0.06588063,  0.04342471]],\n",
       "\n",
       "        [[-0.85183275, -1.29767621, -1.78515995, ...,  0.08660528,\n",
       "           0.05801771,  0.03606643],\n",
       "         [-1.57487845, -2.36038446, -3.13652134, ...,  0.2736541 ,\n",
       "           0.19855592,  0.12837315],\n",
       "         [-2.30744243, -3.38383222, -4.31225252, ...,  0.07128137,\n",
       "           0.04684408,  0.0279564 ],\n",
       "         ...,\n",
       "         [-0.82208925, -1.2361089 , -1.66737878, ...,  0.06008095,\n",
       "           0.04520957,  0.02929616],\n",
       "         [-0.9029901 , -1.35805416, -1.82352817, ...,  0.01264141,\n",
       "           0.0139782 ,  0.0127873 ],\n",
       "         [-0.76141435, -1.1507473 , -1.56298137, ...,  0.0871464 ,\n",
       "           0.06588063,  0.04342471]],\n",
       "\n",
       "        ...,\n",
       "\n",
       "        [[-0.85183275, -1.29767621, -1.78515995, ...,  0.08660528,\n",
       "           0.05801771,  0.03606643],\n",
       "         [-1.57487845, -2.36038446, -3.13652134, ...,  0.2736541 ,\n",
       "           0.19855592,  0.12837315],\n",
       "         [-2.30744243, -3.38383222, -4.31225252, ...,  0.07128137,\n",
       "           0.04684408,  0.0279564 ],\n",
       "         ...,\n",
       "         [-0.82208925, -1.2361089 , -1.66737878, ...,  0.06008095,\n",
       "           0.04520957,  0.02929616],\n",
       "         [-0.9029901 , -1.35805416, -1.82352817, ...,  0.01264141,\n",
       "           0.0139782 ,  0.0127873 ],\n",
       "         [-0.76141435, -1.1507473 , -1.56298137, ...,  0.0871464 ,\n",
       "           0.06588063,  0.04342471]],\n",
       "\n",
       "        [[-0.85183275, -1.29767621, -1.78515995, ...,  0.08660528,\n",
       "           0.05801771,  0.03606643],\n",
       "         [-1.57487845, -2.36038446, -3.13652134, ...,  0.2736541 ,\n",
       "           0.19855592,  0.12837315],\n",
       "         [-2.30744243, -3.38383222, -4.31225252, ...,  0.07128137,\n",
       "           0.04684408,  0.0279564 ],\n",
       "         ...,\n",
       "         [-0.82208925, -1.2361089 , -1.66737878, ...,  0.06008095,\n",
       "           0.04520957,  0.02929616],\n",
       "         [-0.9029901 , -1.35805416, -1.82352817, ...,  0.01264141,\n",
       "           0.0139782 ,  0.0127873 ],\n",
       "         [-0.76141435, -1.1507473 , -1.56298137, ...,  0.0871464 ,\n",
       "           0.06588063,  0.04342471]],\n",
       "\n",
       "        [[-0.85183275, -1.29767621, -1.78515995, ...,  0.08660528,\n",
       "           0.05801771,  0.03606643],\n",
       "         [-1.57487845, -2.36038446, -3.13652134, ...,  0.2736541 ,\n",
       "           0.19855592,  0.12837315],\n",
       "         [-2.30744243, -3.38383222, -4.31225252, ...,  0.07128137,\n",
       "           0.04684408,  0.0279564 ],\n",
       "         ...,\n",
       "         [-0.82208925, -1.2361089 , -1.66737878, ...,  0.06008095,\n",
       "           0.04520957,  0.02929616],\n",
       "         [-0.9029901 , -1.35805416, -1.82352817, ...,  0.01264141,\n",
       "           0.0139782 ,  0.0127873 ],\n",
       "         [-0.76141435, -1.1507473 , -1.56298137, ...,  0.0871464 ,\n",
       "           0.06588063,  0.04342471]]]])"
      ]
     },
     "execution_count": 3,
     "metadata": {},
     "output_type": "execute_result"
    }
   ],
   "source": [
    "ode_diff = np.load('ode_diff.npy', allow_pickle=True)\n",
    "ode_diff"
   ]
  },
  {
   "cell_type": "code",
   "execution_count": 34,
   "id": "7c93ebb9",
   "metadata": {},
   "outputs": [
    {
     "data": {
      "text/plain": [
       "array([ 6.62676720e-02,  5.22894748e-02,  2.66880840e-02,  6.11229986e-03,\n",
       "       -8.98236781e-03, -1.85929388e-02, -2.31094211e-02, -2.33297348e-02,\n",
       "       -2.03524977e-02, -1.54876709e-02, -1.00273788e-02, -4.82612848e-03,\n",
       "       -5.89489937e-04,  2.24485993e-03,  3.70967388e-03,  3.87933850e-03,\n",
       "        3.00702453e-03,  1.42312050e-03, -6.28232956e-04, -2.81053782e-03,\n",
       "       -4.93335724e-03, -6.89530373e-03, -8.57150555e-03, -9.84579325e-03,\n",
       "       -1.07181072e-02, -1.12152696e-02, -1.13105774e-02, -1.10723972e-02,\n",
       "       -1.05573535e-02, -9.77426767e-03, -8.78286362e-03, -7.69025087e-03,\n",
       "       -6.54995441e-03, -5.38289547e-03, -4.23663855e-03, -3.19159031e-03,\n",
       "       -2.31629610e-03, -1.62261724e-03, -1.10459328e-03, -8.06808472e-04,\n",
       "       -7.29441643e-04, -8.66413116e-04, -1.24740601e-03, -1.80721283e-03,\n",
       "       -2.50685215e-03, -3.33750248e-03, -4.28128242e-03, -5.29360771e-03,\n",
       "       -6.32071495e-03, -7.28237629e-03, -8.17859173e-03, -8.99136066e-03,\n",
       "       -9.67311859e-03, -1.01791620e-02, -1.04948282e-02, -1.06316805e-02,\n",
       "       -1.05543137e-02, -1.02566481e-02, -9.77134705e-03, -9.11331177e-03,\n",
       "       -8.25297832e-03, -7.26449490e-03, -6.17337227e-03, -4.97651100e-03,\n",
       "       -3.70967388e-03, -2.43246555e-03, -1.17301941e-03,  7.73668289e-05,\n",
       "        1.22666359e-03,  2.28345394e-03,  3.21984291e-03,  4.01031971e-03,\n",
       "        4.67431545e-03,  5.18035889e-03,  5.53917885e-03,  5.71787357e-03,\n",
       "        5.75506687e-03,  5.69093227e-03,  5.49519062e-03,  5.17976284e-03,\n",
       "        4.77707386e-03,  4.32968140e-03,  3.84068489e-03,  3.33237648e-03,\n",
       "        2.87675858e-03,  2.39229202e-03,  1.92332268e-03,  1.52921677e-03,\n",
       "        1.23143196e-03,  9.70602036e-04,  7.79390335e-04,  7.07507133e-04,\n",
       "        6.96063042e-04,  7.66634941e-04,  8.95023346e-04,  1.12652779e-03,\n",
       "        1.36280060e-03,  1.68037415e-03,  2.06089020e-03,  2.40302086e-03,\n",
       "        2.77376175e-03,  3.15213203e-03,  3.50201130e-03,  3.84914875e-03,\n",
       "        4.12464142e-03,  4.31180000e-03,  4.44424152e-03,  4.48596478e-03,\n",
       "        4.47916985e-03,  4.35876846e-03,  4.10640240e-03,  3.77964973e-03,\n",
       "        3.37469578e-03,  2.85816193e-03,  2.25377083e-03,  1.59132481e-03,\n",
       "        8.54492188e-04,  9.53674316e-05, -6.93798065e-04, -1.51085854e-03,\n",
       "       -2.30586529e-03, -3.04281712e-03, -3.72600555e-03, -4.38392162e-03,\n",
       "       -4.92143631e-03, -5.36501408e-03, -5.71489334e-03, -5.89191914e-03,\n",
       "       -5.97679615e-03, -5.93817234e-03, -5.72824478e-03, -5.44238091e-03,\n",
       "       -5.01358509e-03, -4.45997715e-03, -3.83460522e-03, -3.14104557e-03,\n",
       "       -2.36403942e-03, -1.56009197e-03, -7.26401806e-04,  1.39951706e-04,\n",
       "        9.13977623e-04,  1.66726112e-03,  2.39962339e-03,  3.04573774e-03,\n",
       "        3.59952450e-03,  4.02826071e-03,  4.37062979e-03,  4.60284948e-03,\n",
       "        4.71293926e-03,  4.70703840e-03,  4.55820560e-03,  4.31406498e-03,\n",
       "        3.95673513e-03,  3.50123644e-03,  2.98017263e-03,  2.34609842e-03,\n",
       "        1.68812275e-03,  9.73582268e-04,  1.90556049e-04, -5.71608543e-04,\n",
       "       -1.36357546e-03, -2.13766098e-03, -2.88495421e-03, -3.62032652e-03,\n",
       "       -4.31999564e-03, -4.92435694e-03, -5.48407435e-03, -6.02295995e-03,\n",
       "       -6.47255778e-03, -6.83280826e-03, -7.13649392e-03, -7.36573339e-03,\n",
       "       -7.52352178e-03, -7.60985911e-03, -7.64559209e-03, -7.61282444e-03,\n",
       "       -7.49374926e-03, -7.32403994e-03, -7.12158531e-03, -6.87745214e-03,\n",
       "       -6.60056807e-03, -6.27604686e-03, -5.93068637e-03, -5.60914353e-03,\n",
       "       -5.21019101e-03, -4.78742272e-03, -4.42121923e-03, -4.04013693e-03,\n",
       "       -3.64713371e-03, -3.26901674e-03, -2.90580094e-03, -2.59317458e-03,\n",
       "       -2.26569176e-03, -1.93819404e-03, -1.69405341e-03, -1.43504143e-03,\n",
       "       -1.21474266e-03, -1.04799867e-03, -8.69333744e-04, -7.35372305e-04,\n",
       "       -6.66916370e-04, -6.07341528e-04, -5.71608543e-04, -5.80549240e-04,\n",
       "       -6.10351562e-04, -6.66916370e-04, -7.53283501e-04, -8.81314278e-04,\n",
       "       -1.04206800e-03, -1.18494034e-03, -1.33979321e-03, -1.57797337e-03,\n",
       "       -1.78635120e-03, -2.00068951e-03, -2.24190950e-03, -2.47704983e-03,\n",
       "       -2.70330906e-03, -2.94148922e-03, -3.17674875e-03, -3.39108706e-03,\n",
       "       -3.60840559e-03, -3.78704071e-03, -3.97163630e-03, -4.11754847e-03,\n",
       "       -4.23663855e-03, -4.34082747e-03, -4.40037251e-03, -4.44799662e-03,\n",
       "       -4.43011522e-03, -4.41229343e-03, -4.36764956e-03, -4.26042080e-03,\n",
       "       -4.11754847e-03, -3.93593311e-03, -3.73637676e-03, -3.51905823e-03,\n",
       "       -3.24821472e-03, -2.96247005e-03, -2.64525414e-03, -2.29692459e-03,\n",
       "       -1.95753574e-03, -1.55556202e-03, -1.18494034e-03, -8.33511353e-04,\n",
       "       -4.28676605e-04, -4.47034836e-05,  3.21626663e-04,  7.08699226e-04,\n",
       "        1.03449821e-03,  1.35469437e-03,  1.67918205e-03,  1.96349621e-03,\n",
       "        2.21800804e-03,  2.42948532e-03,  2.61259079e-03,  2.77543068e-03,\n",
       "        2.91180611e-03,  2.99286842e-03,  3.03530693e-03,  3.05688381e-03,\n",
       "        3.04496288e-03,  3.00109386e-03,  2.94148922e-03,  2.83062458e-03,\n",
       "        2.72488594e-03,  2.59029865e-03,  2.42233276e-03,  2.27904320e-03,\n",
       "        2.09832191e-03,  1.91950798e-03,  1.77037716e-03,  1.61695480e-03,\n",
       "        1.46937370e-03,  1.33168697e-03,  1.20186806e-03,  1.11615658e-03,\n",
       "        1.05619431e-03,  1.00195408e-03,  9.92894173e-04,  1.02901459e-03,\n",
       "        1.05631351e-03,  1.11985207e-03,  1.24132633e-03,  1.38151646e-03,\n",
       "        1.56784058e-03,  1.78408623e-03,  2.00581551e-03,  2.23994255e-03,\n",
       "        2.52544880e-03,  2.82835960e-03,  3.12912464e-03,  3.44014168e-03,\n",
       "        3.76701355e-03,  4.09519672e-03,  4.42636013e-03,  4.75180149e-03,\n",
       "        5.03373146e-03,  5.29873371e-03,  5.60021400e-03,  5.87189198e-03,\n",
       "        6.07061386e-03,  6.26111031e-03,  6.41298294e-03,  6.50823116e-03,\n",
       "        6.57522678e-03,  6.59608841e-03,  6.58273697e-03,  6.53803349e-03,\n",
       "        6.41298294e-03,  6.26266003e-03,  6.08700514e-03,  5.79077005e-03,\n",
       "        5.47814369e-03,  5.16104698e-03,  4.76062298e-03,  4.33933735e-03,\n",
       "        3.89426947e-03,  3.39108706e-03,  2.83432007e-03,  2.26420164e-03,\n",
       "        1.69706345e-03,  1.08522177e-03,  4.65929508e-04, -1.74164772e-04,\n",
       "       -8.29160213e-04, -1.46037340e-03, -2.13170052e-03, -2.78079510e-03,\n",
       "       -3.42977047e-03, -4.03416157e-03, -4.63265181e-03, -5.26970625e-03,\n",
       "       -5.84137440e-03, -6.38025999e-03, -6.91908598e-03, -7.37464428e-03,\n",
       "       -7.82722235e-03, -8.29759240e-03, -8.65486264e-03, -8.96748900e-03,\n",
       "       -9.28306580e-03, -9.55995917e-03, -9.74452496e-03, -9.90530849e-03,\n",
       "       -1.00541711e-02, -1.01286173e-02, -1.01583898e-02, -1.01673007e-02,\n",
       "       -1.01315975e-02, -9.99164581e-03, -9.85766947e-03, -9.72667336e-03,\n",
       "       -9.47956741e-03, -9.19970870e-03, -8.92579556e-03, -8.58937204e-03,\n",
       "       -8.22912157e-03, -7.86887109e-03, -7.43716955e-03, -6.96676970e-03,\n",
       "       -6.54995441e-03, -6.04679994e-03, -5.48112206e-03, -5.02262427e-03,\n",
       "       -4.46885452e-03, -3.84958833e-03, -3.31665948e-03, -2.76587158e-03,\n",
       "       -2.20614672e-03, -1.62557513e-03, -1.00630522e-03, -4.46587801e-04,\n",
       "        1.16124749e-04,  6.96673989e-04,  1.25639141e-03,  1.78933144e-03,\n",
       "        2.31927633e-03,  2.84922123e-03,  3.35240364e-03,  3.82277369e-03,\n",
       "        4.26641107e-03,  4.71001863e-03,  5.13875484e-03,  5.54364920e-03,\n",
       "        5.88899851e-03,  6.20162487e-03,  6.50826097e-03,  6.80005550e-03,\n",
       "        7.04714656e-03,  7.23770261e-03,  7.39848614e-03,  7.55029917e-03,\n",
       "        7.69618154e-03,  7.75277615e-03,  7.77953863e-03,  7.81530142e-03,\n",
       "        7.76767731e-03,  7.69621134e-03,  7.62772560e-03,  7.48479366e-03,\n",
       "        7.32403994e-03,  7.14838505e-03,  6.89977407e-03,  6.60055876e-03,\n",
       "        6.33406639e-03,  6.05869293e-03,  5.67764044e-03,  5.28758764e-03,\n",
       "        4.91541624e-03,  4.48220968e-03,  4.06098366e-03,  3.62777710e-03,\n",
       "        3.08597088e-03,  2.58129835e-03,  2.12132931e-03,  1.57791376e-03,\n",
       "        1.00779533e-03,  5.03182411e-04, -2.52723694e-05, -6.08861446e-04,\n",
       "       -1.17903948e-03, -1.73425674e-03, -2.29251385e-03, -2.82990932e-03,\n",
       "       -3.37320566e-03, -3.92848253e-03, -4.43011522e-03, -4.90796566e-03,\n",
       "       -5.42604923e-03, -5.92625141e-03, -6.37876987e-03, -6.81793690e-03,\n",
       "       -7.23177195e-03, -7.58749247e-03, -7.95221329e-03, -8.32068920e-03,\n",
       "       -8.60571861e-03, -8.86178017e-03, -9.15426016e-03, -9.37461853e-03,\n",
       "       -9.52345133e-03, -9.65303183e-03, -9.76020098e-03, -9.86361504e-03,\n",
       "       -9.91797447e-03, -9.87851620e-03, -9.84466076e-03, -9.82010365e-03,\n",
       "       -9.67454910e-03, -9.55396891e-03, -9.39542055e-03, -9.18036699e-03,\n",
       "       -8.97020102e-03, -8.69017839e-03, -8.36688280e-03, -8.04781914e-03,\n",
       "       -7.69674778e-03, -7.33429193e-03, -6.92445040e-03, -6.46454096e-03,\n",
       "       -6.03973866e-03, -5.59276342e-03, -5.10329008e-03, -4.59754467e-03,\n",
       "       -4.07254696e-03, -3.53270769e-03, -3.02863121e-03, -2.50387192e-03,\n",
       "       -1.94865465e-03, -1.40190125e-03, -8.56697559e-04, -3.02553177e-04,\n",
       "        2.49743462e-04,  7.78198242e-04,  1.26904249e-03,  1.80792809e-03,\n",
       "        2.33119726e-03,  2.81345844e-03,  3.26752663e-03,  3.72153521e-03,\n",
       "        4.17935848e-03,  4.58943844e-03,  5.00178337e-03,  5.37097454e-03,\n",
       "        5.71107864e-03,  6.04158640e-03,  6.36237860e-03,  6.62064552e-03,\n",
       "        6.84022903e-03,  7.09778070e-03,  7.27790594e-03,  7.42971897e-03,\n",
       "        7.57110119e-03,  7.67236948e-03,  7.74234533e-03,  7.76171684e-03,\n",
       "        7.80636072e-03,  7.80487061e-03,  7.75426626e-03,  7.66795874e-03,\n",
       "        7.58159161e-03,  7.46989250e-03,  7.32553005e-03,  7.16030598e-03,\n",
       "        6.96229935e-03,  6.75243139e-03,  6.52915239e-03,  6.27905130e-03,\n",
       "        5.97685575e-03,  5.68056107e-03,  5.38438559e-03,  5.06579876e-03,\n",
       "        4.70256805e-03,  4.36612964e-03,  4.01929021e-03,  3.63224745e-03,\n",
       "        3.24666500e-03,  2.85372138e-03,  2.48599052e-03,  2.08854675e-03,\n",
       "        1.66428089e-03,  1.25342607e-03,  8.93175602e-04,  4.83810902e-04,\n",
       "        4.61637974e-05, -3.30477953e-04, -7.20500946e-04, -1.11347437e-03,\n",
       "       -1.49160624e-03, -1.85780227e-03, -2.21656263e-03, -2.57235765e-03,\n",
       "       -2.93855369e-03, -3.27199697e-03, -3.57717276e-03, -3.90020013e-03,\n",
       "       -4.18303907e-03, -4.46587801e-03, -4.76658344e-03, -5.01964241e-03,\n",
       "       -5.22209704e-03, -5.44837490e-03, -5.68655133e-03, -5.86816482e-03,\n",
       "       -6.04084507e-03, -6.20757032e-03, -6.33261446e-03, -6.46956824e-03,\n",
       "       -6.58270344e-03, -6.68095425e-03, -6.78218156e-03, -6.80004805e-03,\n",
       "       -6.82981312e-03, -6.89233840e-03, -6.89233840e-03, -6.89233840e-03,\n",
       "       -6.92507625e-03, -6.86554611e-03, -6.78962469e-03, -6.75687194e-03,\n",
       "       -6.67946041e-03, -6.56782091e-03, -6.49040937e-03, -6.40854239e-03,\n",
       "       -6.22394681e-03, -6.12717867e-03, -6.01255894e-03, -5.79375029e-03,\n",
       "       -5.64634800e-03, -5.51533699e-03, -5.31291962e-03, -5.11345267e-03,\n",
       "       -4.93031740e-03, -4.73532081e-03, -4.53287363e-03, -4.31403518e-03,\n",
       "       -4.09671664e-03, -3.88085842e-03, -3.63522768e-03, -3.42383981e-03,\n",
       "       -3.22437286e-03, -2.95493007e-03, -2.73013115e-03, -2.49344110e-03,\n",
       "       -2.27016211e-03, -2.05433369e-03, -1.81615353e-03, -1.56307220e-03,\n",
       "       -1.33228302e-03, -1.09863281e-03, -8.85725021e-04, -6.84738159e-04,\n",
       "       -4.34637070e-04, -2.24769115e-04, -4.47034836e-06,  2.00927258e-04,\n",
       "        3.94523144e-04,  5.95450401e-04,  7.91966915e-04,  1.00189447e-03,\n",
       "        1.18792057e-03,  1.35469437e-03,  1.53034925e-03,  1.69259310e-03,\n",
       "        1.85334682e-03,  2.02155113e-03,  2.16817856e-03,  2.30735540e-03,\n",
       "        2.45398283e-03,  2.58725882e-03,  2.73311138e-03,  2.85446644e-03,\n",
       "        2.94446945e-03,  3.04943323e-03,  3.16929817e-03,  3.25864553e-03,\n",
       "        3.33082676e-03,  3.42679024e-03,  3.51762772e-03,  3.56155634e-03,\n",
       "        3.62557173e-03,  3.68809700e-03,  3.75354290e-03,  3.83436680e-03,\n",
       "        3.81869078e-03,  3.84104252e-03,  3.92103195e-03,  3.91101837e-03,\n",
       "        3.91691923e-03,  3.94594669e-03,  3.95494699e-03,  3.95232439e-03,\n",
       "        3.94207239e-03,  3.95083427e-03,  3.90934944e-03,  3.90100479e-03,\n",
       "        3.89134884e-03,  3.85373831e-03,  3.81928682e-03,  3.78799438e-03,\n",
       "        3.71789932e-03,  3.67432833e-03,  3.66061926e-03,  3.59594822e-03,\n",
       "        3.52424383e-03,  3.45045328e-03,  3.42291594e-03,  3.36945057e-03,\n",
       "        3.26400995e-03,  3.19796801e-03,  3.15105915e-03,  3.04573774e-03,\n",
       "        2.97766924e-03,  2.90173292e-03,  2.79939175e-03,  2.72786617e-03,\n",
       "        2.64048576e-03,  2.54291296e-03,  2.48825550e-03,  2.41976976e-03,\n",
       "        2.31260061e-03,  2.22182274e-03,  2.15548277e-03,  2.05576420e-03,\n",
       "        1.95831060e-03,  1.90615654e-03,  1.82133913e-03,  1.73717737e-03,\n",
       "        1.64639950e-03,  1.58840418e-03,  1.52736902e-03,  1.46478415e-03,\n",
       "        1.38592720e-03,  1.32638216e-03,  1.25342607e-03,  1.18643045e-03,\n",
       "        1.20872259e-03,  1.13880634e-03,  1.07032061e-03,  1.07181072e-03,\n",
       "        1.00779533e-03,  9.60171223e-04,  9.81032848e-04,  9.83983278e-04,\n",
       "        9.36359167e-04,  9.52720642e-04,  9.91433859e-04,  9.73552465e-04,\n",
       "        9.64641571e-04,  9.98854637e-04,  1.07926130e-03,  1.09562278e-03,\n",
       "        1.12986565e-03,  1.20729208e-03,  1.26382709e-03,  1.29806995e-03,\n",
       "        1.33976340e-03,  1.45438313e-03,  1.56751275e-03,  1.66428089e-03,\n",
       "        1.73574686e-03,  1.81165338e-03,  1.92779303e-03,  2.07066536e-03,\n",
       "        2.17637420e-03,  2.29099393e-03,  2.42199004e-03,  2.57979333e-03,\n",
       "        2.74503231e-03,  2.83285975e-03,  2.96534598e-03,  3.17226350e-03,\n",
       "        3.36131454e-03,  3.46404314e-03,  3.61289084e-03,  3.81088257e-03,\n",
       "        3.97314131e-03,  4.16070968e-03,  4.34082747e-03,  4.45992500e-03,\n",
       "        4.59092110e-03,  4.81124222e-03,  5.00475988e-03,  5.15659899e-03,\n",
       "        5.33225946e-03,  5.48260845e-03,  5.65231312e-03,  5.81457303e-03,\n",
       "        5.95003832e-03,  6.11527637e-03,  6.27158210e-03,  6.41746819e-03,\n",
       "        6.57526404e-03,  6.71816617e-03,  6.83577359e-03,  6.93550706e-03,\n",
       "        7.06799328e-03,  7.18857348e-03,  7.25556910e-03,  7.40592182e-03,\n",
       "        7.52650201e-03,  7.57265091e-03,  7.65748322e-03,  7.72298872e-03,\n",
       "        7.79592991e-03,  7.84803927e-03,  7.90311396e-03,  7.92843103e-03,\n",
       "        7.92841613e-03,  7.97161460e-03,  8.01473856e-03,  7.99095631e-03,\n",
       "        7.96711445e-03,  7.95668364e-03,  7.94628263e-03,  7.94032216e-03,\n",
       "        7.88077712e-03,  7.83464313e-03,  7.77509809e-03,  7.68426061e-03,\n",
       "        7.59944320e-03,  7.55029917e-03,  7.47439265e-03,  7.37613440e-03,\n",
       "        7.20345974e-03,  7.11861253e-03,  7.05608726e-03,  6.89083338e-03,\n",
       "        6.74495101e-03,  6.59760833e-03,  6.50680065e-03,  6.35939837e-03,\n",
       "        6.17334247e-03,  5.99470735e-03,  5.86071610e-03,  5.70887327e-03,\n",
       "        5.51384687e-03,  5.35011292e-03,  5.19084930e-03,  5.03301620e-03,\n",
       "        4.80824709e-03,  4.62812185e-03,  4.46140766e-03,  4.27311659e-03,\n",
       "        4.10789251e-03,  3.90321016e-03,  3.70812416e-03,  3.53991985e-03,\n",
       "        3.36205959e-03,  3.16631794e-03,  2.99435854e-03,  2.81274319e-03,\n",
       "        2.65496969e-03,  2.48080492e-03,  2.29471922e-03,  2.12496519e-03,\n",
       "        1.96647644e-03,  1.80649757e-03,  1.60700083e-03,  1.46925449e-03,\n",
       "        1.34348869e-03,  1.20091438e-03,  1.05023384e-03,  8.70525837e-04,\n",
       "        7.34984875e-04,  6.41584396e-04,  5.05387783e-04,  3.64720821e-04,\n",
       "        2.60472298e-04,  1.61886215e-04,  4.31537628e-05, -5.34057617e-05,\n",
       "       -1.38044357e-04, -2.60829926e-04, -3.78668308e-04, -4.19437885e-04,\n",
       "       -4.97221947e-04, -6.13331795e-04, -6.80148602e-04, -7.38799572e-04,\n",
       "       -7.72476196e-04, -8.57353210e-04, -9.12487507e-04, -9.55045223e-04,\n",
       "       -1.01906061e-03, -1.05226040e-03, -1.12307072e-03, -1.16032362e-03,\n",
       "       -1.17808580e-03, -1.23184919e-03, -1.23775005e-03, -1.25414133e-03,\n",
       "       -1.30736828e-03, -1.32483244e-03, -1.33717060e-03, -1.36131048e-03,\n",
       "       -1.37215853e-03, -1.37698650e-03, -1.40714645e-03, -1.42467022e-03,\n",
       "       -1.40047073e-03, -1.42014027e-03, -1.45328045e-03, -1.42425299e-03,\n",
       "       -1.43879652e-03, -1.45286322e-03, -1.43873692e-03, -1.45512819e-03,\n",
       "       -1.43730640e-03, -1.42312050e-03, -1.42461061e-03, -1.42163038e-03,\n",
       "       -1.42240524e-03, -1.43951178e-03, -1.41716003e-03, -1.39263272e-03,\n",
       "       -1.39558315e-03, -1.37028098e-03, -1.39263272e-03, -1.38887763e-03,\n",
       "       -1.36581063e-03, -1.35537982e-03, -1.33603811e-03, -1.34941936e-03,\n",
       "       -1.32191181e-03, -1.29732490e-03, -1.29881501e-03, -1.28692389e-03,\n",
       "       -1.29434466e-03, -1.26385689e-03, -1.23703480e-03, -1.23557448e-03,\n",
       "       -1.22514367e-03, -1.22663379e-03, -1.22663379e-03, -1.18643045e-03,\n",
       "       -1.14029646e-03, -1.15814805e-03, -1.17748976e-03, -1.13284588e-03,\n",
       "       -1.11499429e-03, -1.14178658e-03, -1.12986565e-03, -1.12093985e-03,\n",
       "       -1.09413266e-03, -1.08224154e-03, -1.11050904e-03, -1.10307336e-03,\n",
       "       -1.05841458e-03, -1.07032061e-03, -1.10605359e-03, -1.08371675e-03,\n",
       "       -1.09414756e-03, -1.11795962e-03, -1.12988055e-03, -1.14028901e-03,\n",
       "       -1.12093240e-03, -1.14475191e-03, -1.18494779e-03, -1.20280683e-03,\n",
       "       -1.25491619e-03, -1.28319860e-03, -1.29361451e-03, -1.34571642e-03,\n",
       "       -1.39930844e-03, -1.42759271e-03, -1.48118287e-03, -1.53923966e-03,\n",
       "       -1.57794359e-03, -1.65088661e-03, -1.70150027e-03, -1.79081783e-03,\n",
       "       -1.85780227e-03, -1.94712356e-03, -2.03197449e-03, -2.08258629e-03,\n",
       "       -2.18977034e-03, -2.27759778e-03, -2.39817053e-03, -2.50237435e-03,\n",
       "       -2.60062516e-03, -2.69292295e-03, -2.79414654e-03, -2.92067230e-03,\n",
       "       -3.04125249e-03, -3.16481292e-03, -3.27348709e-03, -3.38514149e-03,\n",
       "       -3.50274146e-03, -3.63075733e-03, -3.75729799e-03, -3.86299193e-03,\n",
       "       -4.01334465e-03, -4.13689017e-03, -4.23662364e-03, -4.36167419e-03,\n",
       "       -4.46885824e-03, -4.57307696e-03, -4.68024611e-03, -4.78890538e-03,\n",
       "       -4.87822294e-03, -4.96158004e-03, -5.02857566e-03, -5.12531400e-03,\n",
       "       -5.21913171e-03, -5.22953272e-03, -5.26970625e-03, -5.33151627e-03,\n",
       "       -5.34120202e-03, -5.35830855e-03, -5.36799431e-03, -5.36128879e-03,\n",
       "       -5.30397892e-03, -5.27271628e-03, -5.23102283e-03, -5.14322519e-03,\n",
       "       -5.04273176e-03, -4.91544604e-03, -4.79856133e-03, -4.61995602e-03,\n",
       "       -4.44281101e-03, -4.26939130e-03, -4.04831767e-03, -3.78260016e-03,\n",
       "       -3.51911783e-03, -3.25116515e-03, -2.88569927e-03, -2.55301595e-03,\n",
       "       -2.23740935e-03, -1.82801485e-03, -1.37698650e-03, -9.11056995e-04,\n",
       "       -4.55528498e-04,  4.76241112e-05,  5.84274530e-04,  1.16556883e-03,\n",
       "        1.79600716e-03,  2.39408016e-03,  3.03345919e-03,  3.73533368e-03,\n",
       "        4.45324183e-03,  5.21540642e-03,  5.99917769e-03,  6.79150224e-03,\n",
       "        7.66417384e-03,  8.55404139e-03,  9.43118334e-03,  1.03679299e-02,\n",
       "        1.13552809e-02,  1.23388767e-02,  1.33634210e-02,  1.44552588e-02,\n",
       "        1.55349374e-02,  1.66469812e-02,  1.78009868e-02,  1.89732313e-02,\n",
       "        2.01447606e-02,  2.14019418e-02,  2.26777792e-02,  2.32766867e-02])"
      ]
     },
     "execution_count": 34,
     "metadata": {},
     "output_type": "execute_result"
    }
   ],
   "source": [
    "ode_diff[0][2][9]-ode_diff[0][0][10]"
   ]
  },
  {
   "cell_type": "code",
   "execution_count": 9,
   "id": "62c5abc0",
   "metadata": {},
   "outputs": [
    {
     "data": {
      "text/plain": [
       "array([-3.00000000e+00, -2.99924483e+00, -2.99848084e+00, -2.99770803e+00,\n",
       "       -2.99692640e+00, -2.99613596e+00, -2.99533671e+00, -2.99452866e+00,\n",
       "       -2.99371181e+00, -2.99288617e+00, -2.99205174e+00, -2.99120852e+00,\n",
       "       -2.99035653e+00, -2.98949576e+00, -2.98862622e+00, -2.98774791e+00,\n",
       "       -2.98686085e+00, -2.98596503e+00, -2.98506045e+00, -2.98414714e+00,\n",
       "       -2.98322508e+00, -2.98229429e+00, -2.98135476e+00, -2.98040651e+00,\n",
       "       -2.97944954e+00, -2.97848385e+00, -2.97750946e+00, -2.97652635e+00,\n",
       "       -2.97553455e+00, -2.97453405e+00, -2.97352486e+00, -2.97250699e+00,\n",
       "       -2.97148044e+00, -2.97044521e+00, -2.96940131e+00, -2.96834875e+00,\n",
       "       -2.96728754e+00, -2.96621766e+00, -2.96513915e+00, -2.96405198e+00,\n",
       "       -2.96295619e+00, -2.96185176e+00, -2.96073870e+00, -2.95961703e+00,\n",
       "       -2.95848674e+00, -2.95734784e+00, -2.95620033e+00, -2.95504423e+00,\n",
       "       -2.95387954e+00, -2.95270626e+00, -2.95152439e+00, -2.95033396e+00,\n",
       "       -2.94913495e+00, -2.94792738e+00, -2.94671125e+00, -2.94548657e+00,\n",
       "       -2.94425334e+00, -2.94301157e+00, -2.94176126e+00, -2.94050243e+00,\n",
       "       -2.93923507e+00, -2.93795920e+00, -2.93667482e+00, -2.93538193e+00,\n",
       "       -2.93408054e+00, -2.93277065e+00, -2.93145229e+00, -2.93012543e+00,\n",
       "       -2.92879011e+00, -2.92744632e+00, -2.92609406e+00, -2.92473335e+00,\n",
       "       -2.92336418e+00, -2.92198658e+00, -2.92060053e+00, -2.91920606e+00,\n",
       "       -2.91780315e+00, -2.91639183e+00, -2.91497210e+00, -2.91354396e+00,\n",
       "       -2.91210742e+00, -2.91066249e+00, -2.90920917e+00, -2.90774748e+00,\n",
       "       -2.90627740e+00, -2.90479896e+00, -2.90331216e+00, -2.90181701e+00,\n",
       "       -2.90031350e+00, -2.89880166e+00, -2.89728148e+00, -2.89575298e+00,\n",
       "       -2.89421615e+00, -2.89267101e+00, -2.89111756e+00, -2.88955581e+00,\n",
       "       -2.88798576e+00, -2.88640743e+00, -2.88482082e+00, -2.88322593e+00,\n",
       "       -2.88162278e+00, -2.88001137e+00, -2.87839170e+00, -2.87676379e+00,\n",
       "       -2.87512764e+00, -2.87348325e+00, -2.87183065e+00, -2.87016982e+00,\n",
       "       -2.86850078e+00, -2.86682354e+00, -2.86513810e+00, -2.86344447e+00,\n",
       "       -2.86174266e+00, -2.86003267e+00, -2.85831452e+00, -2.85658820e+00,\n",
       "       -2.85485373e+00, -2.85311112e+00, -2.85136036e+00, -2.84960147e+00,\n",
       "       -2.84783446e+00, -2.84605933e+00, -2.84427609e+00, -2.84248475e+00,\n",
       "       -2.84068531e+00, -2.83887778e+00, -2.83706217e+00, -2.83523850e+00,\n",
       "       -2.83340675e+00, -2.83156695e+00, -2.82971910e+00, -2.82786320e+00,\n",
       "       -2.82599927e+00, -2.82412731e+00, -2.82224733e+00, -2.82035934e+00,\n",
       "       -2.81846335e+00, -2.81655936e+00, -2.81464737e+00, -2.81272741e+00,\n",
       "       -2.81079948e+00, -2.80886358e+00, -2.80691972e+00, -2.80496791e+00,\n",
       "       -2.80300815e+00, -2.80104047e+00, -2.79906485e+00, -2.79708132e+00,\n",
       "       -2.79508988e+00, -2.79309053e+00, -2.79108329e+00, -2.78906817e+00,\n",
       "       -2.78704516e+00, -2.78501429e+00, -2.78297555e+00, -2.78092896e+00,\n",
       "       -2.77887452e+00, -2.77681224e+00, -2.77474213e+00, -2.77266420e+00,\n",
       "       -2.77057846e+00, -2.76848491e+00, -2.76638356e+00, -2.76427443e+00,\n",
       "       -2.76215751e+00, -2.76003283e+00, -2.75790037e+00, -2.75576017e+00,\n",
       "       -2.75361221e+00, -2.75145652e+00, -2.74929309e+00, -2.74712195e+00,\n",
       "       -2.74494309e+00, -2.74275652e+00, -2.74056226e+00, -2.73836031e+00,\n",
       "       -2.73615068e+00, -2.73393338e+00, -2.73170842e+00, -2.72947581e+00,\n",
       "       -2.72723554e+00, -2.72498765e+00, -2.72273212e+00, -2.72046898e+00,\n",
       "       -2.71819822e+00, -2.71591986e+00, -2.71363391e+00, -2.71134038e+00,\n",
       "       -2.70903927e+00, -2.70673060e+00, -2.70441436e+00, -2.70209058e+00,\n",
       "       -2.69975926e+00, -2.69742040e+00, -2.69507403e+00, -2.69272014e+00,\n",
       "       -2.69035874e+00, -2.68798985e+00, -2.68561348e+00, -2.68322962e+00,\n",
       "       -2.68083830e+00, -2.67843952e+00, -2.67603329e+00, -2.67361962e+00,\n",
       "       -2.67119852e+00, -2.66876999e+00, -2.66633405e+00, -2.66389071e+00,\n",
       "       -2.66143997e+00, -2.65898184e+00, -2.65651634e+00, -2.65404347e+00,\n",
       "       -2.65156324e+00, -2.64907566e+00, -2.64658074e+00, -2.64407849e+00,\n",
       "       -2.64156892e+00, -2.63905204e+00, -2.63652786e+00, -2.63399639e+00,\n",
       "       -2.63145763e+00, -2.62891159e+00, -2.62635830e+00, -2.62379774e+00,\n",
       "       -2.62122995e+00, -2.61865491e+00, -2.61607265e+00, -2.61348317e+00,\n",
       "       -2.61088649e+00, -2.60828261e+00, -2.60567154e+00, -2.60305329e+00,\n",
       "       -2.60042787e+00, -2.59779530e+00, -2.59515557e+00, -2.59250871e+00,\n",
       "       -2.58985471e+00, -2.58719360e+00, -2.58452537e+00, -2.58185005e+00,\n",
       "       -2.57916763e+00, -2.57647813e+00, -2.57378156e+00, -2.57107794e+00,\n",
       "       -2.56836725e+00, -2.56564953e+00, -2.56292478e+00, -2.56019301e+00,\n",
       "       -2.55745422e+00, -2.55470843e+00, -2.55195565e+00, -2.54919589e+00,\n",
       "       -2.54642916e+00, -2.54365547e+00, -2.54087482e+00, -2.53808724e+00,\n",
       "       -2.53529272e+00, -2.53249128e+00, -2.52968294e+00, -2.52686769e+00,\n",
       "       -2.52404555e+00, -2.52121653e+00, -2.51838064e+00, -2.51553789e+00,\n",
       "       -2.51268829e+00, -2.50983185e+00, -2.50696859e+00, -2.50409850e+00,\n",
       "       -2.50122161e+00, -2.49833792e+00, -2.49544744e+00, -2.49255018e+00,\n",
       "       -2.48964616e+00, -2.48673538e+00, -2.48381785e+00, -2.48089359e+00,\n",
       "       -2.47796261e+00, -2.47502491e+00, -2.47208050e+00, -2.46912941e+00,\n",
       "       -2.46617163e+00, -2.46320717e+00, -2.46023606e+00, -2.45725830e+00,\n",
       "       -2.45427389e+00, -2.45128285e+00, -2.44828520e+00, -2.44528094e+00,\n",
       "       -2.44227007e+00, -2.43925263e+00, -2.43622860e+00, -2.43319801e+00,\n",
       "       -2.43016086e+00, -2.42711717e+00, -2.42406695e+00, -2.42101020e+00,\n",
       "       -2.41794695e+00, -2.41487719e+00, -2.41180094e+00, -2.40871821e+00,\n",
       "       -2.40562901e+00, -2.40253336e+00, -2.39943126e+00, -2.39632272e+00,\n",
       "       -2.39320776e+00, -2.39008639e+00, -2.38695861e+00, -2.38382444e+00,\n",
       "       -2.38068389e+00, -2.37753697e+00, -2.37438369e+00, -2.37122407e+00,\n",
       "       -2.36805811e+00, -2.36488582e+00, -2.36170722e+00, -2.35852231e+00,\n",
       "       -2.35533112e+00, -2.35213364e+00, -2.34892989e+00, -2.34571989e+00,\n",
       "       -2.34250364e+00, -2.33928115e+00, -2.33605244e+00, -2.33281751e+00,\n",
       "       -2.32957638e+00, -2.32632906e+00, -2.32307556e+00, -2.31981590e+00,\n",
       "       -2.31655007e+00, -2.31327810e+00, -2.31000000e+00, -2.30671577e+00,\n",
       "       -2.30342544e+00, -2.30012900e+00, -2.29682647e+00, -2.29351787e+00,\n",
       "       -2.29020320e+00, -2.28688248e+00, -2.28355571e+00, -2.28022291e+00,\n",
       "       -2.27688410e+00, -2.27353927e+00, -2.27018845e+00, -2.26683165e+00,\n",
       "       -2.26346887e+00, -2.26010013e+00, -2.25672544e+00, -2.25334481e+00,\n",
       "       -2.24995825e+00, -2.24656578e+00, -2.24316740e+00, -2.23976314e+00,\n",
       "       -2.23635299e+00, -2.23293698e+00, -2.22951510e+00, -2.22608739e+00,\n",
       "       -2.22265384e+00, -2.21921447e+00, -2.21576929e+00, -2.21231831e+00,\n",
       "       -2.20886154e+00, -2.20539901e+00, -2.20193070e+00, -2.19845665e+00,\n",
       "       -2.19497686e+00, -2.19149135e+00, -2.18800012e+00, -2.18450318e+00,\n",
       "       -2.18100056e+00, -2.17749226e+00, -2.17397829e+00, -2.17045866e+00,\n",
       "       -2.16693339e+00, -2.16340250e+00, -2.15986598e+00, -2.15632385e+00,\n",
       "       -2.15277613e+00, -2.14922283e+00, -2.14566396e+00, -2.14209953e+00,\n",
       "       -2.13852955e+00, -2.13495404e+00, -2.13137300e+00, -2.12778646e+00,\n",
       "       -2.12419442e+00, -2.12059689e+00, -2.11699389e+00, -2.11338542e+00,\n",
       "       -2.10977151e+00, -2.10615216e+00, -2.10252739e+00, -2.09889720e+00,\n",
       "       -2.09526162e+00, -2.09162064e+00, -2.08797429e+00, -2.08432258e+00,\n",
       "       -2.08066551e+00, -2.07700311e+00, -2.07333538e+00, -2.06966234e+00,\n",
       "       -2.06598400e+00, -2.06230036e+00, -2.05861145e+00, -2.05491728e+00,\n",
       "       -2.05121785e+00, -2.04751318e+00, -2.04380329e+00, -2.04008818e+00,\n",
       "       -2.03636787e+00, -2.03264237e+00, -2.02891169e+00, -2.02517585e+00,\n",
       "       -2.02143486e+00, -2.01768872e+00, -2.01393746e+00, -2.01018109e+00,\n",
       "       -2.00641961e+00, -2.00265304e+00, -1.99888140e+00, -1.99510469e+00,\n",
       "       -1.99132293e+00, -1.98753613e+00, -1.98374431e+00, -1.97994747e+00,\n",
       "       -1.97614563e+00, -1.97233880e+00, -1.96852700e+00, -1.96471024e+00,\n",
       "       -1.96088852e+00, -1.95706187e+00, -1.95323029e+00, -1.94939380e+00,\n",
       "       -1.94555241e+00, -1.94170613e+00, -1.93785499e+00, -1.93399897e+00,\n",
       "       -1.93013812e+00, -1.92627242e+00, -1.92240191e+00, -1.91852658e+00,\n",
       "       -1.91464646e+00, -1.91076155e+00, -1.90687188e+00, -1.90297744e+00,\n",
       "       -1.89907826e+00, -1.89517435e+00, -1.89126572e+00, -1.88735238e+00,\n",
       "       -1.88343435e+00, -1.87951164e+00, -1.87558426e+00, -1.87165222e+00,\n",
       "       -1.86771555e+00, -1.86377424e+00, -1.85982832e+00, -1.85587780e+00,\n",
       "       -1.85192269e+00, -1.84796300e+00, -1.84399874e+00, -1.84002994e+00,\n",
       "       -1.83605660e+00, -1.83207874e+00, -1.82809636e+00, -1.82410949e+00,\n",
       "       -1.82011813e+00, -1.81612230e+00, -1.81212201e+00, -1.80811727e+00,\n",
       "       -1.80410810e+00, -1.80009452e+00, -1.79607652e+00, -1.79205414e+00,\n",
       "       -1.78802737e+00, -1.78399624e+00, -1.77996075e+00, -1.77592093e+00,\n",
       "       -1.77187677e+00, -1.76782831e+00, -1.76377554e+00, -1.75971848e+00,\n",
       "       -1.75565716e+00, -1.75159157e+00, -1.74752173e+00, -1.74344766e+00,\n",
       "       -1.73936937e+00, -1.73528687e+00, -1.73120018e+00, -1.72710930e+00,\n",
       "       -1.72301426e+00, -1.71891507e+00, -1.71481173e+00, -1.71070427e+00,\n",
       "       -1.70659269e+00, -1.70247702e+00, -1.69835725e+00, -1.69423341e+00,\n",
       "       -1.69010551e+00, -1.68597357e+00, -1.68183759e+00, -1.67769759e+00,\n",
       "       -1.67355358e+00, -1.66940558e+00, -1.66525360e+00, -1.66109766e+00,\n",
       "       -1.65693776e+00, -1.65277392e+00, -1.64860616e+00, -1.64443448e+00,\n",
       "       -1.64025891e+00, -1.63607945e+00, -1.63189612e+00, -1.62770893e+00,\n",
       "       -1.62351790e+00, -1.61932303e+00, -1.61512435e+00, -1.61092186e+00,\n",
       "       -1.60671559e+00, -1.60250554e+00, -1.59829172e+00, -1.59407415e+00,\n",
       "       -1.58985285e+00, -1.58562783e+00, -1.58139910e+00, -1.57716667e+00,\n",
       "       -1.57293056e+00, -1.56869078e+00, -1.56444735e+00, -1.56020028e+00,\n",
       "       -1.55594958e+00, -1.55169527e+00, -1.54743736e+00, -1.54317587e+00,\n",
       "       -1.53891080e+00, -1.53464218e+00, -1.53037001e+00, -1.52609430e+00,\n",
       "       -1.52181509e+00, -1.51753237e+00, -1.51324616e+00, -1.50895647e+00,\n",
       "       -1.50466332e+00, -1.50036672e+00, -1.49606669e+00, -1.49176324e+00,\n",
       "       -1.48745638e+00, -1.48314613e+00, -1.47883250e+00, -1.47451550e+00,\n",
       "       -1.47019515e+00, -1.46587147e+00, -1.46154446e+00, -1.45721414e+00,\n",
       "       -1.45288052e+00, -1.44854362e+00, -1.44420346e+00, -1.43986003e+00,\n",
       "       -1.43551337e+00, -1.43116348e+00, -1.42681038e+00, -1.42245407e+00,\n",
       "       -1.41809459e+00, -1.41373193e+00, -1.40936611e+00, -1.40499715e+00,\n",
       "       -1.40062506e+00, -1.39624985e+00, -1.39187154e+00, -1.38749015e+00,\n",
       "       -1.38310568e+00, -1.37871815e+00, -1.37432757e+00, -1.36993396e+00,\n",
       "       -1.36553734e+00, -1.36113771e+00, -1.35673509e+00, -1.35232949e+00,\n",
       "       -1.34792093e+00, -1.34350942e+00, -1.33909498e+00, -1.33467762e+00,\n",
       "       -1.33025735e+00, -1.32583419e+00, -1.32140815e+00, -1.31697925e+00,\n",
       "       -1.31254750e+00, -1.30811291e+00, -1.30367550e+00, -1.29923528e+00,\n",
       "       -1.29479227e+00, -1.29034647e+00, -1.28589792e+00, -1.28144660e+00,\n",
       "       -1.27699256e+00, -1.27253578e+00, -1.26807630e+00, -1.26361412e+00,\n",
       "       -1.25914927e+00, -1.25468174e+00, -1.25021156e+00, -1.24573874e+00,\n",
       "       -1.24126330e+00, -1.23678524e+00, -1.23230459e+00, -1.22782136e+00,\n",
       "       -1.22333556e+00, -1.21884720e+00, -1.21435630e+00, -1.20986288e+00,\n",
       "       -1.20536694e+00, -1.20086851e+00, -1.19636759e+00, -1.19186420e+00,\n",
       "       -1.18735836e+00, -1.18285008e+00, -1.17833937e+00, -1.17382624e+00,\n",
       "       -1.16931072e+00, -1.16479281e+00, -1.16027254e+00, -1.15574990e+00,\n",
       "       -1.15122493e+00, -1.14669762e+00, -1.14216800e+00, -1.13763609e+00,\n",
       "       -1.13310188e+00, -1.12856541e+00, -1.12402668e+00, -1.11948570e+00,\n",
       "       -1.11494250e+00, -1.11039709e+00, -1.10584947e+00, -1.10129967e+00,\n",
       "       -1.09674769e+00, -1.09219356e+00, -1.08763729e+00, -1.08307888e+00,\n",
       "       -1.07851836e+00, -1.07395575e+00, -1.06939104e+00, -1.06482426e+00,\n",
       "       -1.06025543e+00, -1.05568455e+00, -1.05111164e+00, -1.04653672e+00,\n",
       "       -1.04195980e+00, -1.03738088e+00, -1.03280000e+00, -1.02821716e+00,\n",
       "       -1.02363238e+00, -1.01904566e+00, -1.01445704e+00, -1.00986651e+00,\n",
       "       -1.00527409e+00, -1.00067980e+00, -9.96083654e-01, -9.91485664e-01,\n",
       "       -9.86885844e-01, -9.82284208e-01, -9.77680772e-01, -9.73075549e-01,\n",
       "       -9.68468553e-01, -9.63859800e-01, -9.59249302e-01, -9.54637076e-01,\n",
       "       -9.50023134e-01, -9.45407490e-01, -9.40790161e-01, -9.36171159e-01,\n",
       "       -9.31550499e-01, -9.26928195e-01, -9.22304262e-01, -9.17678714e-01,\n",
       "       -9.13051565e-01, -9.08422829e-01, -9.03792521e-01, -8.99160656e-01,\n",
       "       -8.94527247e-01, -8.89892308e-01, -8.85255855e-01, -8.80617901e-01,\n",
       "       -8.75978461e-01, -8.71337548e-01, -8.66695178e-01, -8.62051365e-01,\n",
       "       -8.57406123e-01, -8.52759465e-01, -8.48111408e-01, -8.43461964e-01,\n",
       "       -8.38811149e-01, -8.34158976e-01, -8.29505460e-01, -8.24850616e-01,\n",
       "       -8.20194457e-01, -8.15536997e-01, -8.10878252e-01, -8.06218236e-01,\n",
       "       -8.01556962e-01, -7.96894445e-01, -7.92230700e-01, -7.87565741e-01,\n",
       "       -7.82899582e-01, -7.78232237e-01, -7.73563721e-01, -7.68894048e-01,\n",
       "       -7.64223233e-01, -7.59551289e-01, -7.54878231e-01, -7.50204074e-01,\n",
       "       -7.45528832e-01, -7.40852518e-01, -7.36175148e-01, -7.31496736e-01,\n",
       "       -7.26817295e-01, -7.22136841e-01, -7.17455388e-01, -7.12772950e-01,\n",
       "       -7.08089541e-01, -7.03405175e-01, -6.98719868e-01, -6.94033632e-01,\n",
       "       -6.89346484e-01, -6.84658436e-01, -6.79969503e-01, -6.75279700e-01,\n",
       "       -6.70589041e-01, -6.65897540e-01, -6.61205212e-01, -6.56512070e-01,\n",
       "       -6.51818129e-01, -6.47123404e-01, -6.42427908e-01, -6.37731656e-01,\n",
       "       -6.33034663e-01, -6.28336942e-01, -6.23638508e-01, -6.18939376e-01,\n",
       "       -6.14239558e-01, -6.09539071e-01, -6.04837928e-01, -6.00136143e-01,\n",
       "       -5.95433731e-01, -5.90730706e-01, -5.86027082e-01, -5.81322873e-01,\n",
       "       -5.76618095e-01, -5.71912760e-01, -5.67206884e-01, -5.62500481e-01,\n",
       "       -5.57793565e-01, -5.53086150e-01, -5.48378250e-01, -5.43669880e-01,\n",
       "       -5.38961055e-01, -5.34251787e-01, -5.29542092e-01, -5.24831984e-01,\n",
       "       -5.20121477e-01, -5.15410586e-01, -5.10699324e-01, -5.05987706e-01,\n",
       "       -5.01275746e-01, -4.96563458e-01, -4.91850857e-01, -4.87137957e-01,\n",
       "       -4.82424772e-01, -4.77711317e-01, -4.72997605e-01, -4.68283650e-01,\n",
       "       -4.63569468e-01, -4.58855072e-01, -4.54140477e-01, -4.49425696e-01,\n",
       "       -4.44710744e-01, -4.39995635e-01, -4.35280384e-01, -4.30565004e-01,\n",
       "       -4.25849510e-01, -4.21133916e-01, -4.16418236e-01, -4.11702484e-01,\n",
       "       -4.06986675e-01, -4.02270823e-01, -3.97554941e-01, -3.92839045e-01,\n",
       "       -3.88123148e-01, -3.83407264e-01, -3.78691408e-01, -3.73975594e-01,\n",
       "       -3.69259836e-01, -3.64544148e-01, -3.59828544e-01, -3.55113039e-01,\n",
       "       -3.50397646e-01, -3.45682380e-01, -3.40967254e-01, -3.36252284e-01,\n",
       "       -3.31537483e-01, -3.26822865e-01, -3.22108444e-01, -3.17394235e-01,\n",
       "       -3.12680252e-01, -3.07966508e-01, -3.03253018e-01, -2.98539796e-01,\n",
       "       -2.93826856e-01, -2.89114213e-01, -2.84401879e-01, -2.79689870e-01,\n",
       "       -2.74978199e-01, -2.70266881e-01, -2.65555929e-01, -2.60845358e-01,\n",
       "       -2.56135181e-01, -2.51425413e-01, -2.46716068e-01, -2.42007160e-01,\n",
       "       -2.37298702e-01, -2.32590710e-01, -2.27883197e-01, -2.23176176e-01,\n",
       "       -2.18469662e-01, -2.13763670e-01, -2.09058212e-01, -2.04353304e-01,\n",
       "       -1.99648959e-01, -1.94945190e-01, -1.90242013e-01, -1.85539441e-01,\n",
       "       -1.80837487e-01, -1.76136167e-01, -1.71435494e-01, -1.66735482e-01,\n",
       "       -1.62036144e-01, -1.57337495e-01, -1.52639549e-01, -1.47942320e-01,\n",
       "       -1.43245822e-01, -1.38550068e-01, -1.33855073e-01, -1.29160850e-01,\n",
       "       -1.24467413e-01, -1.19774777e-01, -1.15082955e-01, -1.10391961e-01,\n",
       "       -1.05701809e-01, -1.01012513e-01, -9.63240868e-02, -9.16365441e-02,\n",
       "       -8.69498989e-02, -8.22641650e-02, -7.75793563e-02, -7.28954867e-02,\n",
       "       -6.82125699e-02, -6.35306199e-02, -5.88496505e-02, -5.41696754e-02,\n",
       "       -4.94907086e-02, -4.48127638e-02, -4.01358547e-02, -3.54599954e-02,\n",
       "       -3.07851994e-02, -2.61114806e-02, -2.14388527e-02, -1.67673297e-02,\n",
       "       -1.20969251e-02, -7.42765279e-03, -2.75952649e-03,  1.90744004e-03,\n",
       "        6.57323308e-03,  1.12378389e-02,  1.59012437e-02,  2.05634339e-02,\n",
       "        2.52243958e-02,  2.98841155e-02,  3.45425795e-02,  3.91997740e-02,\n",
       "        4.38556854e-02,  4.85102999e-02,  5.31636040e-02,  5.78155840e-02,\n",
       "        6.24662262e-02,  6.71155169e-02,  7.17634426e-02,  7.64099895e-02,\n",
       "        8.10551442e-02,  8.56988930e-02,  9.03412222e-02,  9.49821182e-02,\n",
       "        9.96215676e-02,  1.04259557e-01,  1.08896072e-01,  1.13531100e-01,\n",
       "        1.18164626e-01,  1.22796638e-01,  1.27427122e-01,  1.32056065e-01,\n",
       "        1.36683452e-01,  1.41309271e-01,  1.45933507e-01,  1.50556148e-01,\n",
       "        1.55177179e-01,  1.59796588e-01,  1.64414361e-01,  1.69030484e-01,\n",
       "        1.73644944e-01,  1.78257727e-01,  1.82868821e-01,  1.87478211e-01,\n",
       "        1.92085884e-01,  1.96691827e-01,  2.01296026e-01,  2.05898468e-01,\n",
       "        2.10499140e-01,  2.15098028e-01,  2.19695119e-01,  2.24290399e-01,\n",
       "        2.28883855e-01,  2.33475473e-01,  2.38065241e-01,  2.42653146e-01,\n",
       "        2.47239172e-01,  2.51823308e-01,  2.56405541e-01,  2.60985856e-01,\n",
       "        2.65564240e-01,  2.70140681e-01,  2.74715165e-01,  2.79287678e-01,\n",
       "        2.83858208e-01,  2.88426741e-01,  2.92993264e-01,  2.97557763e-01,\n",
       "        3.02120227e-01,  3.06680640e-01,  3.11238991e-01,  3.15795265e-01,\n",
       "        3.20349451e-01,  3.24901534e-01,  3.29451501e-01,  3.33999340e-01,\n",
       "        3.38545037e-01,  3.43088579e-01,  3.47629953e-01,  3.52169145e-01,\n",
       "        3.56706144e-01,  3.61240935e-01,  3.65773505e-01,  3.70303842e-01,\n",
       "        3.74831933e-01,  3.79357764e-01,  3.83881322e-01,  3.88402594e-01,\n",
       "        3.92921568e-01,  3.97438230e-01,  4.01952568e-01,  4.06464567e-01,\n",
       "        4.10974216e-01,  4.15481502e-01,  4.19986411e-01,  4.24488930e-01,\n",
       "        4.28989047e-01,  4.33486748e-01,  4.37982021e-01,  4.42474853e-01,\n",
       "        4.46965231e-01,  4.51453141e-01,  4.55938572e-01,  4.60421511e-01,\n",
       "        4.64901943e-01,  4.69379857e-01,  4.73855240e-01,  4.78328079e-01,\n",
       "        4.82798361e-01,  4.87266074e-01,  4.91731203e-01,  4.96193738e-01,\n",
       "        5.00653665e-01,  5.05110971e-01,  5.09565643e-01,  5.14017670e-01,\n",
       "        5.18467037e-01,  5.22913733e-01,  5.27357744e-01,  5.31799058e-01,\n",
       "        5.36237663e-01,  5.40673545e-01,  5.45106693e-01,  5.49537092e-01,\n",
       "        5.53964732e-01,  5.58389598e-01,  5.62811679e-01,  5.67230962e-01,\n",
       "        5.71647434e-01,  5.76061083e-01,  5.80471896e-01,  5.84879861e-01,\n",
       "        5.89284965e-01,  5.93687195e-01,  5.98086540e-01,  6.02482986e-01])"
      ]
     },
     "execution_count": 9,
     "metadata": {},
     "output_type": "execute_result"
    }
   ],
   "source": [
    "df_ = df2(np.linspace(0,1,1000))\n",
    "df_"
   ]
  },
  {
   "cell_type": "code",
   "execution_count": 8,
   "id": "d616bb33",
   "metadata": {},
   "outputs": [],
   "source": [
    "err_1 = []\n",
    "for j in range(1,10):\n",
    "    err_st = []\n",
    "    for i in ode_diff[0][1][10*(j-1):j*10]:\n",
    "        err_st.append(np.linalg.norm(i-df_))\n",
    "    err_1.append(err_st)"
   ]
  },
  {
   "cell_type": "code",
   "execution_count": 24,
   "id": "67a238e3",
   "metadata": {},
   "outputs": [
    {
     "data": {
      "text/plain": [
       "[[43.841565803329395,\n",
       "  43.80402768268639,\n",
       "  43.78866368335771,\n",
       "  43.82926193985319,\n",
       "  43.831618172132146,\n",
       "  43.79328286065135,\n",
       "  43.862553032554054,\n",
       "  43.84892432325555,\n",
       "  43.841894982985245,\n",
       "  43.850415646437895],\n",
       " [43.8285891964973,\n",
       "  43.86332239288134,\n",
       "  43.82244531512704,\n",
       "  43.79636060917891,\n",
       "  43.80298639727383,\n",
       "  43.8875928624738,\n",
       "  43.764815340444486,\n",
       "  43.8701748559441,\n",
       "  43.85456421849422,\n",
       "  43.81190344668398],\n",
       " [43.82089786643748,\n",
       "  43.763898766310504,\n",
       "  43.829667177352974,\n",
       "  43.83155145884193,\n",
       "  43.85683284515661,\n",
       "  43.828370394949836,\n",
       "  43.8722452071165,\n",
       "  43.851931343672106,\n",
       "  43.812774657271554,\n",
       "  43.83372437374012],\n",
       " [43.87806641031926,\n",
       "  43.81793953611285,\n",
       "  43.87516426227221,\n",
       "  43.878238965066075,\n",
       "  43.778270537573384,\n",
       "  43.782661159454435,\n",
       "  43.798968961141696,\n",
       "  43.828698287307446,\n",
       "  43.8443418205603,\n",
       "  43.8674122761022],\n",
       " [43.827460269717115,\n",
       "  43.836302898882835,\n",
       "  43.83777094864623,\n",
       "  43.865808709222755,\n",
       "  43.77975257967693,\n",
       "  43.81674264027193,\n",
       "  43.80656942462023,\n",
       "  43.81371474341812,\n",
       "  43.84201654698053,\n",
       "  43.784409444195525],\n",
       " [43.78873567884006,\n",
       "  43.808712058747766,\n",
       "  43.812613243113994,\n",
       "  43.88317616631338,\n",
       "  43.827775658515506,\n",
       "  43.79755639736452,\n",
       "  43.799645674284996,\n",
       "  43.862698916438006,\n",
       "  43.825024364399866,\n",
       "  43.831086877297544],\n",
       " [43.85293139976544,\n",
       "  43.80466900680331,\n",
       "  43.867570646590494,\n",
       "  43.69941497974587,\n",
       "  43.79825130948226,\n",
       "  43.85195421420005,\n",
       "  43.85781613182305,\n",
       "  43.82678720271678,\n",
       "  43.73674594797374,\n",
       "  43.70232946703755],\n",
       " [43.70297610586615,\n",
       "  43.65875050564902,\n",
       "  43.80530736265663,\n",
       "  43.32040365901802,\n",
       "  43.67472643722422,\n",
       "  43.865215482965496,\n",
       "  43.82068935371138,\n",
       "  43.70866710648137,\n",
       "  43.67883896807883,\n",
       "  43.60614053843745],\n",
       " [42.07731633013198,\n",
       "  42.36255461580478,\n",
       "  41.590311892271735,\n",
       "  43.82045679157067,\n",
       "  42.01031847538405,\n",
       "  41.416478656785735,\n",
       "  42.172087080382376,\n",
       "  41.846035886115274,\n",
       "  41.4678884443589,\n",
       "  42.05494551200155]]"
      ]
     },
     "execution_count": 24,
     "metadata": {},
     "output_type": "execute_result"
    }
   ],
   "source": [
    "err_1"
   ]
  },
  {
   "cell_type": "code",
   "execution_count": 10,
   "id": "2677aa91",
   "metadata": {},
   "outputs": [],
   "source": [
    "err_2 = []\n",
    "for j in range(1,10):\n",
    "    err_st = []\n",
    "    for i in ode_diff[1][1][10*(j-1):j*10]:\n",
    "        err_st.append(np.linalg.norm(i-df_))\n",
    "    err_2.append(err_st)"
   ]
  },
  {
   "cell_type": "code",
   "execution_count": 25,
   "id": "63fd2f5e",
   "metadata": {},
   "outputs": [
    {
     "data": {
      "text/plain": [
       "Text(0.5, 0, 'Номер запуска')"
      ]
     },
     "execution_count": 25,
     "metadata": {},
     "output_type": "execute_result"
    },
    {
     "data": {
      "image/png": "[encoded data removed]",
      "text/plain": [
       "<Figure size 432x288 with 1 Axes>"
      ]
     },
     "metadata": {
      "needs_background": "light"
     },
     "output_type": "display_data"
    }
   ],
   "source": [
    "plt.boxplot(err_1[::-1])\n",
    "plt.ylabel(\"Ошибка при вычислении первой производной\")\n",
    "plt.xlabel('Номер запуска')"
   ]
  },
  {
   "cell_type": "code",
   "execution_count": 22,
   "id": "2ee46f43",
   "metadata": {},
   "outputs": [
    {
     "data": {
      "text/plain": [
       "array([13000., 23000., 33000., 43000., 53000., 63000., 73000., 83000.,\n",
       "       93000.])"
      ]
     },
     "execution_count": 22,
     "metadata": {},
     "output_type": "execute_result"
    }
   ],
   "source": [
    "np.arange(1.3e4,1e5,1e4)"
   ]
  },
  {
   "cell_type": "code",
   "execution_count": 27,
   "id": "c960bdc3",
   "metadata": {},
   "outputs": [
    {
     "data": {
      "text/plain": [
       "Text(0.5, 0, 'Номер запуска')"
      ]
     },
     "execution_count": 27,
     "metadata": {},
     "output_type": "execute_result"
    },
    {
     "data": {
      "image/png": "[encoded data removed]",
      "text/plain": [
       "<Figure size 432x288 with 1 Axes>"
      ]
     },
     "metadata": {
      "needs_background": "light"
     },
     "output_type": "display_data"
    }
   ],
   "source": [
    "plt.boxplot(err_2[::-1])\n",
    "plt.ylabel(\"Ошибка при вычислении второй производной\")\n",
    "plt.xlabel('Номер запуска')"
   ]
  },
  {
   "cell_type": "code",
   "execution_count": 29,
   "id": "a5b5ae8e",
   "metadata": {},
   "outputs": [],
   "source": [
    "system_data = np.load('ann_sde_data.npy', allow_pickle=True)\n",
    "# system_data"
   ]
  },
  {
   "cell_type": "code",
   "execution_count": 30,
   "id": "09cae85a",
   "metadata": {},
   "outputs": [
    {
     "data": {
      "text/plain": [
       "Text(0.5, 0, 'Номер запуска')"
      ]
     },
     "execution_count": 30,
     "metadata": {},
     "output_type": "execute_result"
    },
    {
     "data": {
      "image/png": "[encoded data removed]",
      "text/plain": [
       "<Figure size 432x288 with 1 Axes>"
      ]
     },
     "metadata": {
      "needs_background": "light"
     },
     "output_type": "display_data"
    }
   ],
   "source": [
    "# plt.boxplot(system_data[::3])\n",
    "plt.boxplot(system_data.T[::2])\n",
    "plt.ylabel(\"Значения функции приспособленности для функции u\")\n",
    "plt.xlabel('Номер запуска')"
   ]
  },
  {
   "cell_type": "code",
   "execution_count": 31,
   "id": "c743e340",
   "metadata": {},
   "outputs": [
    {
     "data": {
      "text/plain": [
       "Text(0.5, 0, 'Номер запуска')"
      ]
     },
     "execution_count": 31,
     "metadata": {},
     "output_type": "execute_result"
    },
    {
     "data": {
      "image/png": "[encoded data removed]",
      "text/plain": [
       "<Figure size 432x288 with 1 Axes>"
      ]
     },
     "metadata": {
      "needs_background": "light"
     },
     "output_type": "display_data"
    }
   ],
   "source": [
    "plt.boxplot(system_data.T[1::2])\n",
    "plt.ylabel(\"Значения функции приспособленности для функции v\")\n",
    "plt.xlabel('Номер запуска')\n"
   ]
  },
  {
   "cell_type": "code",
   "execution_count": 34,
   "id": "c6606f17",
   "metadata": {},
   "outputs": [
    {
     "data": {
      "text/plain": [
       "array([[[-8.76976848e-01, -8.33163559e-01, -7.41595030e-01, ...,\n",
       "          1.51783228e-02,  1.51604414e-02,  1.51526928e-02],\n",
       "        [-8.77534747e-01, -8.32732618e-01, -7.41593242e-01, ...,\n",
       "          1.19358301e-03,  1.18613243e-03,  1.17838383e-03],\n",
       "        [-9.50669050e-01, -8.74356031e-01, -7.44421482e-01, ...,\n",
       "          1.64270401e-03,  1.63346529e-03,  1.63137913e-03],\n",
       "        ...,\n",
       "        [-9.43326354e-01, -8.82662535e-01, -7.72117376e-01, ...,\n",
       "          3.49879265e-03,  3.49372625e-03,  3.49044800e-03],\n",
       "        [-8.45035911e-01, -8.12517405e-01, -7.42754042e-01, ...,\n",
       "          4.34458256e-03,  4.34368849e-03,  4.34279442e-03],\n",
       "        [-8.17379355e-01, -8.00096989e-01, -7.50950575e-01, ...,\n",
       "          3.47793102e-03,  3.47763300e-03,  3.47673893e-03]],\n",
       "\n",
       "       [[-4.13399935e-02, -8.82619619e-02, -1.71146989e-01, ...,\n",
       "         -4.48152423e-04, -4.46587801e-04, -4.43160534e-04],\n",
       "        [-4.01973724e-02, -8.35600495e-02, -1.62507594e-01, ...,\n",
       "         -2.56597996e-04, -2.55629420e-04, -2.52276659e-04],\n",
       "        [-6.20675087e-02, -9.46620107e-02, -1.61871612e-01, ...,\n",
       "         -2.35028565e-03, -2.34458596e-03, -2.34179199e-03],\n",
       "        ...,\n",
       "        [-4.08935547e-02, -8.77201557e-02, -1.70453191e-01, ...,\n",
       "         -6.34714961e-04, -6.34044409e-04, -6.32852316e-04],\n",
       "        [-7.27880001e-02, -1.04906559e-01, -1.67713761e-01, ...,\n",
       "         -8.91983509e-04, -8.92393291e-04, -8.91387463e-04],\n",
       "        [-1.40632987e-01, -1.62970722e-01, -2.06137598e-01, ...,\n",
       "         -1.58011913e-03, -1.57978386e-03, -1.57922506e-03]]])"
      ]
     },
     "execution_count": 34,
     "metadata": {},
     "output_type": "execute_result"
    }
   ],
   "source": [
    "system_diff = np.load('system_diff.npy', allow_pickle=True)\n",
    "system_diff"
   ]
  },
  {
   "cell_type": "code",
   "execution_count": 36,
   "id": "13d4ee46",
   "metadata": {},
   "outputs": [],
   "source": [
    "err_u = []\n",
    "err_v = []\n",
    "du = np.load('du.npy')\n",
    "dv = np.load('dv.npy')\n",
    "for i in range(9):\n",
    "    err_u.append(np.linalg.norm(system_diff[0][i]-du))\n",
    "    err_v.append(np.linalg.norm(system_diff[1][i]-dv))"
   ]
  },
  {
   "cell_type": "code",
   "execution_count": 39,
   "id": "a9875759",
   "metadata": {},
   "outputs": [
    {
     "data": {
      "text/plain": [
       "<matplotlib.legend.Legend at 0x2ac43da13d0>"
      ]
     },
     "execution_count": 39,
     "metadata": {},
     "output_type": "execute_result"
    },
    {
     "data": {
      "image/png": "[encoded data removed]",
      "text/plain": [
       "<Figure size 432x288 with 1 Axes>"
      ]
     },
     "metadata": {
      "needs_background": "light"
     },
     "output_type": "display_data"
    }
   ],
   "source": [
    "plt.plot(np.arange(1,10), err_u[::-1], label = 'Ошибка первой производной функции u')\n",
    "plt.ylabel('Значение ошибки')\n",
    "plt.xlabel('Количество эпох обучения')\n",
    "plt.legend()"
   ]
  },
  {
   "cell_type": "code",
   "execution_count": 40,
   "id": "0fd13eda",
   "metadata": {},
   "outputs": [
    {
     "data": {
      "text/plain": [
       "<matplotlib.legend.Legend at 0x2ac43e29dc0>"
      ]
     },
     "execution_count": 40,
     "metadata": {},
     "output_type": "execute_result"
    },
    {
     "data": {
      "image/png": "[encoded data removed]",
      "text/plain": [
       "<Figure size 432x288 with 1 Axes>"
      ]
     },
     "metadata": {
      "needs_background": "light"
     },
     "output_type": "display_data"
    }
   ],
   "source": [
    "plt.plot(np.arange(1,10), err_v[::-1], label = 'Ошибка первой производной функции v')\n",
    "plt.ylabel('Значение ошибки')\n",
    "plt.xlabel('Количество эпох обучения')\n",
    "plt.legend()"
   ]
  },
  {
   "cell_type": "code",
   "execution_count": 41,
   "id": "da69e167",
   "metadata": {},
   "outputs": [
    {
     "data": {
      "text/plain": [
       "array([array([  3.90531463,  91.30896837,   4.89996733,  24.03187377,\n",
       "                4.90252757, 532.36057133,   4.89293923,   4.90836798,\n",
       "                4.01510858])                                         ,\n",
       "       array([4.90116735, 5.06927322, 4.90149163, 4.91065136, 4.89769541,\n",
       "              4.91523687, 4.18497545, 4.88865981, 4.21123741, 4.91040573]),\n",
       "       array([ 4.89019663, 73.65104672,  4.23669424,  4.90226179, 73.58520239,\n",
       "              12.91406869, 24.08246562,  4.92169651,  3.82551384])            ,\n",
       "       array([  4.92092728,   4.76027797,   4.9086751 ,  24.56488312,\n",
       "                9.37359874, 318.64573956,  73.63158299,   4.88725623,\n",
       "                4.92393497])                                         ,\n",
       "       array([10.36053326,  8.94424949, 12.75322998,  5.23260989,  4.90523743,\n",
       "              12.90222801,  4.90014089,  7.17371395])                         ,\n",
       "       array([ 11.78886034,   7.08097829, 318.08982978,   4.88827579,\n",
       "              322.35384838,   4.89851419,  10.97001574,  24.38340358,\n",
       "                4.89555732,   4.76555124])                           ,\n",
       "       array([ 10.93005488,   9.29343809,   2.92868947,   4.85581011,\n",
       "                9.20416994,   4.89479672,  46.73660814,  10.71478939,\n",
       "              323.11139786,   4.88984581])                           ,\n",
       "       array([12.81052811,  4.85704547,  5.1992153 ,  4.88904536, 13.40759506,\n",
       "               4.88997729, 12.84168869, 13.08243819, 48.08752203])            ,\n",
       "       array([  5.76026096, 331.20444115,   9.42145692,   7.1497013 ,\n",
       "                4.13402703,   4.93176782,   3.13131276,  13.22668672,\n",
       "                6.86785049,   3.37254439])                           ],\n",
       "      dtype=object)"
      ]
     },
     "execution_count": 41,
     "metadata": {},
     "output_type": "execute_result"
    }
   ],
   "source": [
    "wave_data = np.load('ann_wave_data.npy', allow_pickle=True)\n",
    "wave_data"
   ]
  },
  {
   "cell_type": "code",
   "execution_count": 42,
   "id": "481ad944",
   "metadata": {},
   "outputs": [
    {
     "data": {
      "text/plain": [
       "Text(0.5, 0, 'Номер запуска')"
      ]
     },
     "execution_count": 42,
     "metadata": {},
     "output_type": "execute_result"
    },
    {
     "data": {
      "image/png": "[encoded data removed]",
      "text/plain": [
       "<Figure size 432x288 with 1 Axes>"
      ]
     },
     "metadata": {
      "needs_background": "light"
     },
     "output_type": "display_data"
    }
   ],
   "source": [
    "plt.boxplot(wave_data[::-1], showfliers=False)\n",
    "plt.ylabel(\"Значения функции приспособленности\")\n",
    "plt.xlabel('Номер запуска')"
   ]
  },
  {
   "cell_type": "code",
   "execution_count": 43,
   "id": "371e65bf",
   "metadata": {},
   "outputs": [
    {
     "data": {
      "text/plain": [
       "array([[[[ 1.89009011e+00,  1.86724293e+00,  1.86886489e+00, ...,\n",
       "           1.71404343e+01,  1.70764027e+01,  1.70114231e+01],\n",
       "         [ 2.40067816e+00,  2.39225078e+00,  2.40760255e+00, ...,\n",
       "           1.76308975e+01,  1.75663948e+01,  1.75005131e+01],\n",
       "         [ 3.61734295e+00,  3.63849783e+00,  3.67831922e+00, ...,\n",
       "           1.85450401e+01,  1.84821739e+01,  1.84171047e+01],\n",
       "         ...,\n",
       "         [-4.93733644e+00, -4.91988564e+00, -4.91085529e+00, ...,\n",
       "          -1.76403694e+01, -1.74993286e+01, -1.73551426e+01],\n",
       "         [-4.04487944e+00, -4.06300879e+00, -4.09277439e+00, ...,\n",
       "          -1.63835754e+01, -1.62458572e+01, -1.61070862e+01],\n",
       "         [-3.66473722e+00, -3.70464563e+00, -3.75747681e+00, ...,\n",
       "          -1.57347336e+01, -1.56018114e+01, -1.54687767e+01]],\n",
       "\n",
       "        [[ 1.55353701e+00,  1.61839759e+00,  1.70314991e+00, ...,\n",
       "           1.70186443e+01,  1.69408798e+01,  1.68616276e+01],\n",
       "         [ 2.14328766e+00,  2.21153378e+00,  2.29634023e+00, ...,\n",
       "           1.75242119e+01,  1.74447842e+01,  1.73633766e+01],\n",
       "         [ 3.49359345e+00,  3.56403089e+00,  3.64350533e+00, ...,\n",
       "           1.84673004e+01,  1.83881264e+01,  1.83058662e+01],\n",
       "         ...,\n",
       "         [-4.48113108e+00, -4.49177647e+00, -4.50951767e+00, ...,\n",
       "          -1.86052799e+01, -1.85491295e+01, -1.84911652e+01],\n",
       "         [-3.43868303e+00, -3.48194051e+00, -3.53452253e+00, ...,\n",
       "          -1.76882076e+01, -1.76364784e+01, -1.75840073e+01],\n",
       "         [-2.97526145e+00, -3.03735352e+00, -3.10974741e+00, ...,\n",
       "          -1.71905918e+01, -1.71421299e+01, -1.70934448e+01]],\n",
       "\n",
       "        [[ 1.64544284e+00,  1.71006024e+00,  1.79042220e+00, ...,\n",
       "           1.70769882e+01,  1.70208511e+01,  1.69628563e+01],\n",
       "         [ 2.30503678e+00,  2.36190367e+00,  2.43246150e+00, ...,\n",
       "           1.77226353e+01,  1.76715279e+01,  1.76179886e+01],\n",
       "         [ 3.71040249e+00,  3.75283575e+00,  3.80466056e+00, ...,\n",
       "           1.88283100e+01,  1.87881660e+01,  1.87446003e+01],\n",
       "         ...,\n",
       "         [-5.13359547e+00, -5.09719753e+00, -5.06892014e+00, ...,\n",
       "          -1.74655781e+01, -1.73096333e+01, -1.71501541e+01],\n",
       "         [-4.16792870e+00, -4.16314507e+00, -4.17021418e+00, ...,\n",
       "          -1.60725994e+01, -1.59141884e+01, -1.57543364e+01],\n",
       "         [-3.73395395e+00, -3.74920011e+00, -3.77802920e+00, ...,\n",
       "          -1.53549910e+01, -1.51984396e+01, -1.50413876e+01]],\n",
       "\n",
       "        ...,\n",
       "\n",
       "        [[ 3.12536669e+00,  3.15395164e+00,  3.19375324e+00, ...,\n",
       "           1.89467564e+01,  1.89312515e+01,  1.89118176e+01],\n",
       "         [ 3.62892866e+00,  3.64136744e+00,  3.66381693e+00, ...,\n",
       "           1.92026043e+01,  1.91848793e+01,  1.91629486e+01],\n",
       "         [ 4.72197342e+00,  4.70846176e+00,  4.70216942e+00, ...,\n",
       "           1.96466484e+01,  1.96258526e+01,  1.96002827e+01],\n",
       "         ...,\n",
       "         [-5.38527870e+00, -5.37485027e+00, -5.37056923e+00, ...,\n",
       "          -2.02348232e+01, -2.02655754e+01, -2.02930317e+01],\n",
       "         [-4.57648802e+00, -4.59254217e+00, -4.61593199e+00, ...,\n",
       "          -1.98738594e+01, -1.99052429e+01, -1.99337406e+01],\n",
       "         [-4.21984673e+00, -4.25038004e+00, -4.28876877e+00, ...,\n",
       "          -1.96565552e+01, -1.96884785e+01, -1.97177353e+01]],\n",
       "\n",
       "        [[ 4.58802128e+00,  4.62850189e+00,  4.67589951e+00, ...,\n",
       "           1.65070477e+01,  1.64342136e+01,  1.63610134e+01],\n",
       "         [ 4.93933725e+00,  4.96914101e+00,  5.00507593e+00, ...,\n",
       "           1.69673996e+01,  1.68841248e+01,  1.68001881e+01],\n",
       "         [ 5.71173286e+00,  5.72270155e+00,  5.73832321e+00, ...,\n",
       "           1.78756523e+01,  1.77745037e+01,  1.76718006e+01],\n",
       "         ...,\n",
       "         [-6.54510403e+00, -6.55140257e+00, -6.56027937e+00, ...,\n",
       "          -1.31084471e+01, -1.31418047e+01, -1.31727695e+01],\n",
       "         [-5.82604027e+00, -5.83605337e+00, -5.84864092e+00, ...,\n",
       "          -1.27689953e+01, -1.28139706e+01, -1.28567810e+01],\n",
       "         [-5.48235941e+00, -5.49418354e+00, -5.50849152e+00, ...,\n",
       "          -1.25803833e+01, -1.26308508e+01, -1.26794043e+01]],\n",
       "\n",
       "        [[ 2.57322025e+00,  2.58819294e+00,  2.61197090e+00, ...,\n",
       "           2.12168674e+01,  2.12982845e+01,  2.13762245e+01],\n",
       "         [ 3.28707004e+00,  3.28849697e+00,  3.29823279e+00, ...,\n",
       "           2.14322701e+01,  2.15107861e+01,  2.15855274e+01],\n",
       "         [ 4.74039316e+00,  4.71753120e+00,  4.70163298e+00, ...,\n",
       "           2.17363186e+01,  2.18096046e+01,  2.18789654e+01],\n",
       "         ...,\n",
       "         [-5.13410187e+00, -5.15767670e+00, -5.18869209e+00, ...,\n",
       "          -1.84480228e+01, -1.84758968e+01, -1.85000858e+01],\n",
       "         [-4.28504324e+00, -4.33646822e+00, -4.39551592e+00, ...,\n",
       "          -1.84618225e+01, -1.84949665e+01, -1.85247421e+01],\n",
       "         [-3.89656663e+00, -3.96186495e+00, -4.03474522e+00, ...,\n",
       "          -1.84484692e+01, -1.84842453e+01, -1.85169811e+01]]],\n",
       "\n",
       "\n",
       "       [[[ 3.23705375e-02,  2.38157809e-02,  7.35484064e-03, ...,\n",
       "           3.81945878e-01,  4.00137901e-01,  4.09187376e-01],\n",
       "         [ 9.52333212e-03,  1.32031739e-02,  2.23714858e-02, ...,\n",
       "           3.18481028e-01,  3.35631520e-01,  3.44204903e-01],\n",
       "         [ 1.55158341e-02,  3.07403505e-02,  6.30730763e-02, ...,\n",
       "           2.54397094e-01,  2.69752741e-01,  2.77423859e-01],\n",
       "         ...,\n",
       "         [ 1.51863694e-01,  1.73663348e-01,  2.16799051e-01, ...,\n",
       "           4.35140729e-01,  4.68529761e-01,  4.85333800e-01],\n",
       "         [ 1.55513361e-01,  1.72138393e-01,  2.04688311e-01, ...,\n",
       "           5.76512516e-01,  6.12040579e-01,  6.29840791e-01],\n",
       "         [ 1.15605071e-01,  1.25768602e-01,  1.45260245e-01, ...,\n",
       "           7.09228218e-01,  7.45019674e-01,  7.62876868e-01]],\n",
       "\n",
       "        [[-2.25465745e-01, -2.12855071e-01, -1.87286362e-01, ...,\n",
       "           4.21856910e-01,  4.44249332e-01,  4.55414712e-01],\n",
       "         [-1.60605088e-01, -1.38048649e-01, -9.25753266e-02, ...,\n",
       "           3.44906747e-01,  3.65741551e-01,  3.76163423e-01],\n",
       "         [-8.89733434e-02, -5.98024577e-02, -1.38767064e-03, ...,\n",
       "           2.65190005e-01,  2.83414125e-01,  2.92599201e-01],\n",
       "         ...,\n",
       "         [ 1.77538216e-01,  1.93954542e-01,  2.26749852e-01, ...,\n",
       "           3.74691188e-01,  4.02773917e-01,  4.16898727e-01],\n",
       "         [ 1.53115019e-01,  1.65357813e-01,  1.89605922e-01, ...,\n",
       "           4.28983569e-01,  4.58399951e-01,  4.73153591e-01],\n",
       "         [ 9.10229981e-02,  9.81148332e-02,  1.11972168e-01, ...,\n",
       "           4.77296293e-01,  5.06973565e-01,  5.21839976e-01]],\n",
       "\n",
       "        [[-1.18091702e-01, -1.09452009e-01, -9.20951366e-02, ...,\n",
       "           4.53416258e-01,  5.01700461e-01,  5.26176393e-01],\n",
       "         [-5.34743071e-02, -3.69623303e-02, -3.77520919e-03, ...,\n",
       "           3.98389250e-01,  4.44634259e-01,  4.68182564e-01],\n",
       "         [-4.35784459e-03,  1.79726630e-02,  6.28147274e-02, ...,\n",
       "           3.54033709e-01,  3.97053361e-01,  4.19098139e-01],\n",
       "         ...,\n",
       "         [ 3.03845853e-01,  3.17535549e-01,  3.44769299e-01, ...,\n",
       "           4.11243737e-01,  4.44115698e-01,  4.60633636e-01],\n",
       "         [ 3.28660101e-01,  3.37288201e-01,  3.53978217e-01, ...,\n",
       "           5.70089340e-01,  6.05576456e-01,  6.23284280e-01],\n",
       "         [ 3.13413888e-01,  3.15250456e-01,  3.18076462e-01, ...,\n",
       "           7.26276457e-01,  7.62378812e-01,  7.80337334e-01]],\n",
       "\n",
       "        ...,\n",
       "\n",
       "        [[ 4.80443239e-02,  5.84345311e-02,  7.86878169e-02, ...,\n",
       "           3.58671308e-01,  3.85606647e-01,  3.99004668e-01],\n",
       "         [ 7.66292214e-02,  9.26278532e-02,  1.24435872e-01, ...,\n",
       "           3.45158577e-01,  3.68137658e-01,  3.79571319e-01],\n",
       "         [ 7.29218125e-02,  9.33229923e-02,  1.34140253e-01, ...,\n",
       "           3.27488780e-01,  3.45951319e-01,  3.55145335e-01],\n",
       "         ...,\n",
       "         [ 1.25858560e-01,  1.48051977e-01,  1.92043006e-01, ...,\n",
       "           2.97178328e-01,  3.18774581e-01,  3.29676270e-01],\n",
       "         [ 1.24283507e-01,  1.43068939e-01,  1.80003420e-01, ...,\n",
       "           2.64793634e-01,  2.89483368e-01,  3.01936269e-01],\n",
       "         [ 9.37499106e-02,  1.08607858e-01,  1.37635693e-01, ...,\n",
       "           2.31518596e-01,  2.58893520e-01,  2.72679329e-01]],\n",
       "\n",
       "        [[ 8.88258219e-03,  2.40877271e-02,  5.40323555e-02, ...,\n",
       "           6.89640641e-01,  7.23405182e-01,  7.40274787e-01],\n",
       "         [ 4.93630767e-02,  6.80267811e-02,  1.04979426e-01, ...,\n",
       "           6.17001951e-01,  6.50388002e-01,  6.67074323e-01],\n",
       "         [ 6.84902072e-02,  8.98264349e-02,  1.32323802e-01, ...,\n",
       "           5.23841381e-01,  5.56191802e-01,  5.72401285e-01],\n",
       "         ...,\n",
       "         [ 4.47526574e-01,  4.57186252e-01,  4.76133078e-01, ...,\n",
       "           1.44191384e+00,  1.45615637e+00,  1.46319270e+00],\n",
       "         [ 4.39324975e-01,  4.47651744e-01,  4.63995337e-01, ...,\n",
       "           1.40136182e+00,  1.41788125e+00,  1.42612457e+00],\n",
       "         [ 4.27500904e-01,  4.34585661e-01,  4.48308885e-01, ...,\n",
       "           1.34983659e+00,  1.36837065e+00,  1.37757063e+00]],\n",
       "\n",
       "        [[ 3.11520696e-01,  3.18609834e-01,  3.32073778e-01, ...,\n",
       "          -2.02664733e-01, -1.82721019e-01, -1.72357261e-01],\n",
       "         [ 3.26493442e-01,  3.37985188e-01,  3.60476226e-01, ...,\n",
       "          -1.19494647e-01, -1.03042275e-01, -9.44167376e-02],\n",
       "         [ 3.14374447e-01,  3.29772472e-01,  3.60083580e-01, ...,\n",
       "          -4.20913100e-02, -2.94640660e-02, -2.28732824e-02],\n",
       "         ...,\n",
       "         [ 4.89579886e-01,  5.00144064e-01,  5.20637274e-01, ...,\n",
       "           8.09028745e-01,  8.42511654e-01,  8.59397650e-01],\n",
       "         [ 4.52029169e-01,  4.58760828e-01,  4.71594006e-01, ...,\n",
       "           7.76836276e-01,  8.13847780e-01,  8.32578540e-01],\n",
       "         [ 3.86730582e-01,  3.89671683e-01,  3.94913554e-01, ...,\n",
       "           7.39254832e-01,  7.79592216e-01,  7.99843669e-01]]],\n",
       "\n",
       "\n",
       "       [[[ 5.10588074e+01,  5.25007858e+01,  5.38737679e+01, ...,\n",
       "           4.90463257e+01,  4.89992142e+01,  4.89089966e+01],\n",
       "         [ 8.63626404e+01,  8.85627441e+01,  9.04727173e+01, ...,\n",
       "           7.02302933e+01,  7.02885590e+01,  7.02840805e+01],\n",
       "         [ 1.37005814e+02,  1.39517029e+02,  1.41295700e+02, ...,\n",
       "           8.35113525e+01,  8.39631119e+01,  8.43224564e+01],\n",
       "         ...,\n",
       "         [ 1.00075981e+02,  9.73621140e+01,  9.43042526e+01, ...,\n",
       "           1.19146347e+02,  1.19512367e+02,  1.19641495e+02],\n",
       "         [ 6.36299591e+01,  6.07620010e+01,  5.76689224e+01, ...,\n",
       "           9.52817917e+01,  9.48758621e+01,  9.43182907e+01],\n",
       "         [ 3.80142212e+01,  3.58363152e+01,  3.35297585e+01, ...,\n",
       "           6.48841858e+01,  6.44045868e+01,  6.38309479e+01]],\n",
       "\n",
       "        [[ 5.89750671e+01,  5.93136215e+01,  5.93190308e+01, ...,\n",
       "           5.05567551e+01,  5.03904343e+01,  5.01749039e+01],\n",
       "         [ 9.70028229e+01,  9.72816620e+01,  9.70177689e+01, ...,\n",
       "           7.24328003e+01,  7.23623276e+01,  7.22119293e+01],\n",
       "         [ 1.47395157e+02,  1.47125763e+02,  1.46103470e+02, ...,\n",
       "           8.62585068e+01,  8.66622925e+01,  8.69436264e+01],\n",
       "         ...,\n",
       "         [ 1.13831451e+02,  1.11125099e+02,  1.08176613e+02, ...,\n",
       "           8.28226089e+01,  8.26328278e+01,  8.23204041e+01],\n",
       "         [ 7.52934799e+01,  7.27211456e+01,  6.99885101e+01, ...,\n",
       "           7.07344055e+01,  7.03499756e+01,  6.98860168e+01],\n",
       "         [ 4.63421593e+01,  4.44587021e+01,  4.24775124e+01, ...,\n",
       "           4.97615814e+01,  4.94348526e+01,  4.90562439e+01]],\n",
       "\n",
       "        [[ 6.59593964e+01,  6.51843414e+01,  6.42039337e+01, ...,\n",
       "           6.45647049e+01,  6.50676727e+01,  6.55132294e+01],\n",
       "         [ 1.03247986e+02,  1.02138779e+02,  1.00711914e+02, ...,\n",
       "           8.75660858e+01,  8.83657455e+01,  8.90872040e+01],\n",
       "         [ 1.46865540e+02,  1.45539688e+02,  1.43786591e+02, ...,\n",
       "           9.20367279e+01,  9.30946350e+01,  9.40790176e+01],\n",
       "         ...,\n",
       "         [ 1.04445816e+02,  1.02104713e+02,  9.93934402e+01, ...,\n",
       "           1.32382584e+02,  1.33306030e+02,  1.33996536e+02],\n",
       "         [ 6.99820786e+01,  6.73998718e+01,  6.45445480e+01, ...,\n",
       "           1.05529358e+02,  1.05559685e+02,  1.05438324e+02],\n",
       "         [ 4.33974762e+01,  4.13944969e+01,  3.92184982e+01, ...,\n",
       "           7.17608490e+01,  7.15748825e+01,  7.12948837e+01]],\n",
       "\n",
       "        ...,\n",
       "\n",
       "        [[ 5.03561974e+01,  4.87415810e+01,  4.70063705e+01, ...,\n",
       "           2.55847931e+01,  2.53627777e+01,  2.51131058e+01],\n",
       "         [ 7.98303375e+01,  7.77255096e+01,  7.54208069e+01, ...,\n",
       "           3.49946022e+01,  3.47300529e+01,  3.44232559e+01],\n",
       "         [ 1.16089058e+02,  1.14126137e+02,  1.11874344e+02, ...,\n",
       "           3.72667313e+01,  3.70982170e+01,  3.68867874e+01],\n",
       "         ...,\n",
       "         [ 8.95065308e+01,  8.71599884e+01,  8.46822510e+01, ...,\n",
       "           2.83257484e+01,  2.83143997e+01,  2.82602310e+01],\n",
       "         [ 5.82715988e+01,  5.62235107e+01,  5.40900230e+01, ...,\n",
       "           2.89134026e+01,  2.88548470e+01,  2.87648201e+01],\n",
       "         [ 3.56641312e+01,  3.42162132e+01,  3.27163239e+01, ...,\n",
       "           2.17304230e+01,  2.16764450e+01,  2.16005325e+01]],\n",
       "\n",
       "        [[ 3.51315994e+01,  3.40639114e+01,  3.29176445e+01, ...,\n",
       "           4.60351944e+01,  4.49911118e+01,  4.39174652e+01],\n",
       "         [ 5.61855774e+01,  5.47099838e+01,  5.31211853e+01, ...,\n",
       "           6.84302368e+01,  6.70145035e+01,  6.55393600e+01],\n",
       "         [ 8.35313797e+01,  8.19074860e+01,  8.01372528e+01, ...,\n",
       "           8.81147385e+01,  8.67325745e+01,  8.52277756e+01],\n",
       "         ...,\n",
       "         [ 7.50506897e+01,  7.46652145e+01,  7.42675552e+01, ...,\n",
       "           3.00157070e+01,  2.88136005e+01,  2.75929451e+01],\n",
       "         [ 5.31372299e+01,  5.28609505e+01,  5.25893936e+01, ...,\n",
       "           2.64031887e+01,  2.55476952e+01,  2.46682644e+01],\n",
       "         [ 3.43680878e+01,  3.41869850e+01,  3.40149422e+01, ...,\n",
       "           1.88611984e+01,  1.83119774e+01,  1.77376747e+01]],\n",
       "\n",
       "        [[ 7.13849792e+01,  7.00304031e+01,  6.86261902e+01, ...,\n",
       "           2.15402603e+01,  2.12501526e+01,  2.09302902e+01],\n",
       "         [ 1.08358643e+02,  1.06466911e+02,  1.04483101e+02, ...,\n",
       "           2.59725571e+01,  2.55660057e+01,  2.51370430e+01],\n",
       "         [ 1.46598022e+02,  1.44475082e+02,  1.42204010e+02, ...,\n",
       "           1.76655769e+01,  1.72138214e+01,  1.67516708e+01],\n",
       "         ...,\n",
       "         [ 9.19057846e+01,  8.91611328e+01,  8.63703690e+01, ...,\n",
       "          -5.44719696e+00, -5.95808029e+00, -6.47869110e+00],\n",
       "         [ 6.18767624e+01,  5.97905884e+01,  5.76973419e+01, ...,\n",
       "          -2.23159790e-02, -4.17423248e-01, -8.44764709e-01],\n",
       "         [ 3.88476601e+01,  3.74603271e+01,  3.60770721e+01, ...,\n",
       "           1.33533478e+00,  1.07212067e+00,  7.76100159e-01]]],\n",
       "\n",
       "\n",
       "       [[[-8.55475664e-01, -1.25078487e+00, -1.56249857e+00, ...,\n",
       "           1.82559490e+00,  1.36207485e+00,  9.04947519e-01],\n",
       "         [ 3.67984176e-01,  6.42407656e-01,  1.10147524e+00, ...,\n",
       "           1.71776855e+00,  1.28619373e+00,  8.57338309e-01],\n",
       "         [ 1.52245164e+00,  2.37786222e+00,  3.41586781e+00, ...,\n",
       "           1.53034925e+00,  1.15133822e+00,  7.67111778e-01],\n",
       "         ...,\n",
       "         [ 2.17996550e+00,  3.24676776e+00,  4.26251459e+00, ...,\n",
       "           3.31483769e+00,  2.50965357e+00,  1.68040395e+00],\n",
       "         [ 1.66250324e+00,  2.45874739e+00,  3.17600584e+00, ...,\n",
       "           3.54736733e+00,  2.66641378e+00,  1.78002119e+00],\n",
       "         [ 1.01635313e+00,  1.48275864e+00,  1.86002779e+00, ...,\n",
       "           3.58559179e+00,  2.68243241e+00,  1.78571939e+00]],\n",
       "\n",
       "        [[ 1.26106739e+00,  1.90896916e+00,  2.58354402e+00, ...,\n",
       "           2.24200487e+00,  1.67789006e+00,  1.11653805e+00],\n",
       "         [ 2.25564384e+00,  3.40148807e+00,  4.56897593e+00, ...,\n",
       "           2.07778072e+00,  1.56283379e+00,  1.04218721e+00],\n",
       "         [ 2.91708875e+00,  4.37928343e+00,  5.83829355e+00, ...,\n",
       "           1.80512667e+00,  1.37045979e+00,  9.18507576e-01],\n",
       "         ...,\n",
       "         [ 1.64163268e+00,  2.46058178e+00,  3.27466512e+00, ...,\n",
       "           2.78733659e+00,  2.11037683e+00,  1.41248107e+00],\n",
       "         [ 1.22427940e+00,  1.82454515e+00,  2.39921737e+00, ...,\n",
       "           2.92919564e+00,  2.20850110e+00,  1.47536397e+00],\n",
       "         [ 7.09183514e-01,  1.04745853e+00,  1.35121870e+00, ...,\n",
       "           2.96469474e+00,  2.22718430e+00,  1.48664117e+00]],\n",
       "\n",
       "        [[ 8.63969326e-01,  1.29982829e+00,  1.73710287e+00, ...,\n",
       "           4.75600195e+00,  3.63800669e+00,  2.44759321e+00],\n",
       "         [ 1.65119767e+00,  2.48495483e+00,  3.32970166e+00, ...,\n",
       "           4.53166676e+00,  3.48966575e+00,  2.35483050e+00],\n",
       "         [ 2.23305082e+00,  3.35862851e+00,  4.50035572e+00, ...,\n",
       "           4.19005728e+00,  3.25322151e+00,  2.20447779e+00],\n",
       "         ...,\n",
       "         [ 1.36896968e+00,  2.04617238e+00,  2.70679593e+00, ...,\n",
       "           3.26238585e+00,  2.46949482e+00,  1.65179372e+00],\n",
       "         [ 8.62810016e-01,  1.26590586e+00,  1.61407292e+00, ...,\n",
       "           3.54636312e+00,  2.65974712e+00,  1.77078247e+00],\n",
       "         [ 1.83656812e-01,  2.33128667e-01,  1.97607279e-01, ...,\n",
       "           3.62643003e+00,  2.70304370e+00,  1.79585218e+00]],\n",
       "\n",
       "        ...,\n",
       "\n",
       "        [[ 1.03902078e+00,  1.53217459e+00,  1.98205936e+00, ...,\n",
       "           2.70919800e+00,  2.01666808e+00,  1.33980215e+00],\n",
       "         [ 1.59986317e+00,  2.39033246e+00,  3.15871096e+00, ...,\n",
       "           2.30722141e+00,  1.72063708e+00,  1.14336610e+00],\n",
       "         [ 2.04011798e+00,  3.06092215e+00,  4.08558178e+00, ...,\n",
       "           1.85459852e+00,  1.38282776e+00,  9.19401646e-01],\n",
       "         ...,\n",
       "         [ 2.21934175e+00,  3.30922222e+00,  4.35561895e+00, ...,\n",
       "           2.13332462e+00,  1.62489712e+00,  1.09016895e+00],\n",
       "         [ 1.87854326e+00,  2.78599548e+00,  3.63122678e+00, ...,\n",
       "           2.44602561e+00,  1.85713172e+00,  1.24529004e+00],\n",
       "         [ 1.48579478e+00,  2.19428921e+00,  2.83425665e+00, ...,\n",
       "           2.71392989e+00,  2.05803657e+00,  1.37858093e+00]],\n",
       "\n",
       "        [[ 1.52051449e+00,  2.25748873e+00,  2.94886541e+00, ...,\n",
       "           3.37675214e+00,  2.53170729e+00,  1.68696046e+00],\n",
       "         [ 1.86637044e+00,  2.78081751e+00,  3.65674281e+00, ...,\n",
       "           3.33815813e+00,  2.50361848e+00,  1.66863203e+00],\n",
       "         [ 2.13362288e+00,  3.19167972e+00,  4.22474003e+00, ...,\n",
       "           3.22937965e+00,  2.42799520e+00,  1.62094831e+00],\n",
       "         ...,\n",
       "         [ 9.65967774e-01,  1.43032527e+00,  1.85709453e+00, ...,\n",
       "           1.43676996e+00,  1.06394291e+00,  7.03632832e-01],\n",
       "         [ 8.32676888e-01,  1.23351812e+00,  1.59725547e+00, ...,\n",
       "           1.66013837e+00,  1.23813748e+00,  8.24332237e-01],\n",
       "         [ 7.08475709e-01,  1.04039907e+00,  1.33089721e+00, ...,\n",
       "           1.86339021e+00,  1.38670206e+00,  9.19997692e-01]],\n",
       "\n",
       "        [[ 7.08913803e-01,  1.02765417e+00,  1.27811432e+00, ...,\n",
       "           1.93409622e+00,  1.51537359e+00,  1.03637576e+00],\n",
       "         [ 1.14917457e+00,  1.69913912e+00,  2.19479060e+00, ...,\n",
       "           1.58060336e+00,  1.25389540e+00,  8.62553716e-01],\n",
       "         [ 1.53980255e+00,  2.28545666e+00,  2.99408579e+00, ...,\n",
       "           1.20989978e+00,  9.60901380e-01,  6.59078360e-01],\n",
       "         ...,\n",
       "         [ 1.05641782e+00,  1.55286932e+00,  1.98970139e+00, ...,\n",
       "           3.31327319e+00,  2.51844525e+00,  1.68859959e+00],\n",
       "         [ 6.73165917e-01,  9.78241861e-01,  1.22714341e+00, ...,\n",
       "           3.66479158e+00,  2.78711319e+00,  1.87307596e+00],\n",
       "         [ 2.94110179e-01,  4.09148633e-01,  4.65299189e-01, ...,\n",
       "           4.00323248e+00,  3.02944183e+00,  2.02514529e+00]]]])"
      ]
     },
     "execution_count": 43,
     "metadata": {},
     "output_type": "execute_result"
    }
   ],
   "source": [
    "wave_diff = np.load('wave_diff_new.npy', allow_pickle=True)\n",
    "wave_diff"
   ]
  },
  {
   "cell_type": "code",
   "execution_count": 15,
   "id": "bc3165a6",
   "metadata": {},
   "outputs": [
    {
     "data": {
      "text/plain": [
       "(90, 101, 101)"
      ]
     },
     "execution_count": 15,
     "metadata": {},
     "output_type": "execute_result"
    }
   ],
   "source": [
    "wave_diff[0].shape"
   ]
  },
  {
   "cell_type": "code",
   "execution_count": 10,
   "id": "6ac03e55",
   "metadata": {},
   "outputs": [
    {
     "data": {
      "text/plain": [
       "(10, 101, 101)"
      ]
     },
     "execution_count": 10,
     "metadata": {},
     "output_type": "execute_result"
    }
   ],
   "source": [
    "wave_diff[0][10*(j-1):j*10].shape"
   ]
  },
  {
   "cell_type": "code",
   "execution_count": 44,
   "id": "a56800bd",
   "metadata": {},
   "outputs": [],
   "source": [
    "dx = np.load('d_dxwaxe.npy')\n",
    "dt = np.load('d_dtwave.npy') \n",
    "d2x = np.load('d2_dx2wave.npy')\n",
    "d2t = np.load('d2_dt2wave.npy')\n",
    "# err_1x = []\n",
    "# err_1t = []\n",
    "# err_2x = []\n",
    "# err_2t = []\n",
    "# for i in range(9):\n",
    "#     err1x = np.linalg.norm((wave_diff[0][i] - dx).flatten())\n",
    "#     err2x = np.linalg.norm((wave_diff[2][i] - d2x).flatten())\n",
    "#     err1t = np.linalg.norm((wave_diff[1][i] - dt).flatten())\n",
    "#     err2t = np.linalg.norm((wave_diff[3][i] - d2t).flatten())\n",
    "#     err_1t.append(err1t)\n",
    "#     err_1x.append(err1x)\n",
    "#     err_2t.append(err2t)\n",
    "#     err_2x.append(err2x)\n",
    "# err_1t\n",
    "err_1x = []\n",
    "for j in range(1,10):\n",
    "    err_st = []\n",
    "    for i in wave_diff[0][10*(j-1):j*10]:\n",
    "        err_st.append(np.linalg.norm((i-dx).flatten()))\n",
    "    err_1x.append(err_st)\n",
    "    \n",
    "err_2x = []\n",
    "for j in range(1,10):\n",
    "    err_st = []\n",
    "    for i in wave_diff[2][10*(j-1):j*10]:\n",
    "        err_st.append(np.linalg.norm((i-d2x).flatten()))\n",
    "    err_2x.append(err_st)\n",
    "    \n",
    "err_1t = []\n",
    "for j in range(1,10):\n",
    "    err_st = []\n",
    "    for i in wave_diff[1][10*(j-1):j*10]:\n",
    "        err_st.append(np.linalg.norm((i-dt).flatten()))\n",
    "    err_1t.append(err_st)\n",
    "    \n",
    "err_2t = []\n",
    "for j in range(1,10):\n",
    "    err_st = []\n",
    "    for i in wave_diff[3][10*(j-1):j*10]:\n",
    "        err_st.append(np.linalg.norm((i-d2t).flatten()))\n",
    "    err_2t.append(err_st)    "
   ]
  },
  {
   "cell_type": "code",
   "execution_count": 52,
   "id": "5cad94ea",
   "metadata": {},
   "outputs": [
    {
     "data": {
      "text/plain": [
       "Text(0.5, 0, 'Номер запуска')"
      ]
     },
     "execution_count": 52,
     "metadata": {},
     "output_type": "execute_result"
    },
    {
     "data": {
      "image/png": "[encoded data removed]",
      "text/plain": [
       "<Figure size 432x288 with 1 Axes>"
      ]
     },
     "metadata": {
      "needs_background": "light"
     },
     "output_type": "display_data"
    }
   ],
   "source": [
    "plt.boxplot(err_2t[::-1])\n",
    "plt.ylabel(\"Ошибка при вычислении второй производной по времени\")\n",
    "plt.xlabel('Номер запуска')"
   ]
  },
  {
   "cell_type": "code",
   "execution_count": 51,
   "id": "1c394ec0",
   "metadata": {},
   "outputs": [
    {
     "data": {
      "text/plain": [
       "Text(0.5, 0, 'Номер запуска')"
      ]
     },
     "execution_count": 51,
     "metadata": {},
     "output_type": "execute_result"
    },
    {
     "data": {
      "image/png": "[encoded data removed]",
      "text/plain": [
       "<Figure size 432x288 with 1 Axes>"
      ]
     },
     "metadata": {
      "needs_background": "light"
     },
     "output_type": "display_data"
    }
   ],
   "source": [
    "plt.boxplot(err_2x[::-1])\n",
    "plt.ylabel(\"Ошибка при вычислении второй производной по координате\")\n",
    "plt.xlabel('Номер запуска')"
   ]
  },
  {
   "cell_type": "code",
   "execution_count": 94,
   "id": "48382eed",
   "metadata": {},
   "outputs": [
    {
     "data": {
      "text/plain": [
       "[<matplotlib.lines.Line2D at 0x12af2128640>]"
      ]
     },
     "execution_count": 94,
     "metadata": {},
     "output_type": "execute_result"
    },
    {
     "data": {
      "image/png": "[encoded data removed]",
      "text/plain": [
       "<Figure size 432x288 with 1 Axes>"
      ]
     },
     "metadata": {
      "needs_background": "light"
     },
     "output_type": "display_data"
    }
   ],
   "source": [
    "plt.plot(np.arange(1,10), err_1x[::-1])\n",
    "plt.plot(np.arange(1,10), err_1t[::-1])"
   ]
  },
  {
   "cell_type": "code",
   "execution_count": 50,
   "id": "14aa9269",
   "metadata": {},
   "outputs": [
    {
     "data": {
      "text/plain": [
       "[<matplotlib.lines.Line2D at 0x2ac476aac40>]"
      ]
     },
     "execution_count": 50,
     "metadata": {},
     "output_type": "execute_result"
    },
    {
     "data": {
      "image/png": "[encoded data removed]",
      "text/plain": [
       "<Figure size 432x288 with 1 Axes>"
      ]
     },
     "metadata": {
      "needs_background": "light"
     },
     "output_type": "display_data"
    }
   ],
   "source": [
    "plt.plot(np.arange(0,10), err_2x[::-1][0])"
   ]
  },
  {
   "cell_type": "code",
   "execution_count": 93,
   "id": "75f98105",
   "metadata": {},
   "outputs": [
    {
     "data": {
      "text/plain": [
       "[<matplotlib.lines.Line2D at 0x12af20ff850>]"
      ]
     },
     "execution_count": 93,
     "metadata": {},
     "output_type": "execute_result"
    },
    {
     "data": {
      "image/png": "[encoded data removed]",
      "text/plain": [
       "<Figure size 432x288 with 1 Axes>"
      ]
     },
     "metadata": {
      "needs_background": "light"
     },
     "output_type": "display_data"
    }
   ],
   "source": [
    "plt.plot(np.arange(1,10), err_2t[::-1])"
   ]
  },
  {
   "cell_type": "code",
   "execution_count": null,
   "id": "745ecbe6",
   "metadata": {},
   "outputs": [],
   "source": []
  }
 ],
 "metadata": {
  "kernelspec": {
   "display_name": "Python 3 (ipykernel)",
   "language": "python",
   "name": "python3"
  },
  "language_info": {
   "codemirror_mode": {
    "name": "ipython",
    "version": 3
   },
   "file_extension": ".py",
   "mimetype": "text/x-python",
   "name": "python",
   "nbconvert_exporter": "python",
   "pygments_lexer": "ipython3",
   "version": "3.9.7"
  }
 },
 "nbformat": 4,
 "nbformat_minor": 5
}
